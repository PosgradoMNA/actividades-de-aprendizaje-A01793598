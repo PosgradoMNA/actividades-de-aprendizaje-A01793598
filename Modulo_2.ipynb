{
  "cells": [
    {
      "cell_type": "markdown",
      "metadata": {
        "id": "view-in-github",
        "colab_type": "text"
      },
      "source": [
        "<a href=\"https://colab.research.google.com/github/PosgradoMNA/actividades-de-aprendizaje-A01793598/blob/main/Modulo_2.ipynb\" target=\"_parent\"><img src=\"https://colab.research.google.com/assets/colab-badge.svg\" alt=\"Open In Colab\"/></a>"
      ]
    },
    {
      "cell_type": "code",
      "execution_count": 1,
      "id": "688aed57",
      "metadata": {
        "colab": {
          "base_uri": "https://localhost:8080/"
        },
        "id": "688aed57",
        "outputId": "d7a84378-4caa-4862-f8f3-b2c94042023a"
      },
      "outputs": [
        {
          "output_type": "stream",
          "name": "stdout",
          "text": [
            "(0, 1, 2, 3)\n"
          ]
        }
      ],
      "source": [
        "A = (0, 1, 2, 3)\n",
        "print(A)"
      ]
    },
    {
      "cell_type": "code",
      "execution_count": 2,
      "id": "ce43c43f",
      "metadata": {
        "colab": {
          "base_uri": "https://localhost:8080/"
        },
        "id": "ce43c43f",
        "outputId": "068eea8b-27a5-49ab-a685-d02c467bb668"
      },
      "outputs": [
        {
          "output_type": "stream",
          "name": "stdout",
          "text": [
            "(0, 1)\n"
          ]
        }
      ],
      "source": [
        "print(A[0:2])"
      ]
    },
    {
      "cell_type": "code",
      "execution_count": 3,
      "id": "8dd9c367",
      "metadata": {
        "colab": {
          "base_uri": "https://localhost:8080/"
        },
        "id": "8dd9c367",
        "outputId": "97f3719b-ca69-4e06-8d0f-dbfcc1e19841"
      },
      "outputs": [
        {
          "output_type": "execute_result",
          "data": {
            "text/plain": [
              "('disco', 10, 1.2)"
            ]
          },
          "metadata": {},
          "execution_count": 3
        }
      ],
      "source": [
        "tuple1 = (\"disco\",10,1.2 )\n",
        "tuple1"
      ]
    },
    {
      "cell_type": "code",
      "execution_count": 4,
      "id": "20adb6ff",
      "metadata": {
        "colab": {
          "base_uri": "https://localhost:8080/"
        },
        "id": "20adb6ff",
        "outputId": "f75bbdc6-2a5c-4870-b533-e745386f6f3f"
      },
      "outputs": [
        {
          "output_type": "execute_result",
          "data": {
            "text/plain": [
              "tuple"
            ]
          },
          "metadata": {},
          "execution_count": 4
        }
      ],
      "source": [
        "type(tuple1)"
      ]
    },
    {
      "cell_type": "code",
      "execution_count": 5,
      "id": "f5fb1802",
      "metadata": {
        "colab": {
          "base_uri": "https://localhost:8080/"
        },
        "id": "f5fb1802",
        "outputId": "b9ae3a2b-11ab-42b5-a58c-351916fed848"
      },
      "outputs": [
        {
          "output_type": "stream",
          "name": "stdout",
          "text": [
            "disco\n",
            "10\n",
            "1.2\n"
          ]
        }
      ],
      "source": [
        "print(tuple1[0])\n",
        "print(tuple1[1])\n",
        "print(tuple1[2])"
      ]
    },
    {
      "cell_type": "code",
      "execution_count": 6,
      "id": "64cecd71",
      "metadata": {
        "colab": {
          "base_uri": "https://localhost:8080/"
        },
        "id": "64cecd71",
        "outputId": "e2d59968-12fb-4fa3-edfe-25c91c2473dc"
      },
      "outputs": [
        {
          "output_type": "stream",
          "name": "stdout",
          "text": [
            "<class 'str'>\n",
            "<class 'int'>\n",
            "<class 'float'>\n"
          ]
        }
      ],
      "source": [
        "print(type(tuple1[0]))\n",
        "print(type(tuple1[1]))\n",
        "print(type(tuple1[2]))"
      ]
    },
    {
      "cell_type": "code",
      "execution_count": 7,
      "id": "60124aae",
      "metadata": {
        "colab": {
          "base_uri": "https://localhost:8080/"
        },
        "id": "60124aae",
        "outputId": "295179cc-1b5e-41ab-c361-f0c03769900d"
      },
      "outputs": [
        {
          "output_type": "execute_result",
          "data": {
            "text/plain": [
              "1.2"
            ]
          },
          "metadata": {},
          "execution_count": 7
        }
      ],
      "source": [
        "tuple1[-1]"
      ]
    },
    {
      "cell_type": "code",
      "execution_count": 8,
      "id": "4a85cfb9",
      "metadata": {
        "colab": {
          "base_uri": "https://localhost:8080/"
        },
        "id": "4a85cfb9",
        "outputId": "b21ed737-d08c-48d8-b68e-fc505bbd52c3"
      },
      "outputs": [
        {
          "output_type": "execute_result",
          "data": {
            "text/plain": [
              "10"
            ]
          },
          "metadata": {},
          "execution_count": 8
        }
      ],
      "source": [
        "tuple1[-2]"
      ]
    },
    {
      "cell_type": "code",
      "execution_count": 9,
      "id": "6f361345",
      "metadata": {
        "colab": {
          "base_uri": "https://localhost:8080/",
          "height": 35
        },
        "id": "6f361345",
        "outputId": "8862e1de-329a-4789-8a94-d9796cbd661b"
      },
      "outputs": [
        {
          "output_type": "execute_result",
          "data": {
            "text/plain": [
              "'disco'"
            ],
            "application/vnd.google.colaboratory.intrinsic+json": {
              "type": "string"
            }
          },
          "metadata": {},
          "execution_count": 9
        }
      ],
      "source": [
        "tuple1[-3]"
      ]
    },
    {
      "cell_type": "code",
      "execution_count": 10,
      "id": "ac78017b",
      "metadata": {
        "colab": {
          "base_uri": "https://localhost:8080/"
        },
        "id": "ac78017b",
        "outputId": "17a408a3-780a-44f0-cab0-9a03fd36e81c"
      },
      "outputs": [
        {
          "output_type": "execute_result",
          "data": {
            "text/plain": [
              "('disco', 10, 1.2, 'hard rock', 10)"
            ]
          },
          "metadata": {},
          "execution_count": 10
        }
      ],
      "source": [
        "tuple2 = tuple1 + (\"hard rock\", 10)\n",
        "tuple2"
      ]
    },
    {
      "cell_type": "code",
      "execution_count": 11,
      "id": "84fb72d0",
      "metadata": {
        "colab": {
          "base_uri": "https://localhost:8080/"
        },
        "id": "84fb72d0",
        "outputId": "c29e41cc-08f4-4900-d3d7-655ab914b938"
      },
      "outputs": [
        {
          "output_type": "execute_result",
          "data": {
            "text/plain": [
              "(0, 9, 6, 5, 10, 8, 9, 6, 2)"
            ]
          },
          "metadata": {},
          "execution_count": 11
        }
      ],
      "source": [
        "Ratings = (0, 9, 6, 5, 10, 8, 9, 6, 2)\n",
        "Ratings"
      ]
    },
    {
      "cell_type": "code",
      "execution_count": 12,
      "id": "5f7ed97b",
      "metadata": {
        "colab": {
          "base_uri": "https://localhost:8080/"
        },
        "id": "5f7ed97b",
        "outputId": "ae567330-ef79-43d0-e9e1-a15db1dac5e5"
      },
      "outputs": [
        {
          "output_type": "execute_result",
          "data": {
            "text/plain": [
              "[0, 2, 5, 6, 6, 8, 9, 9, 10]"
            ]
          },
          "metadata": {},
          "execution_count": 12
        }
      ],
      "source": [
        "RatingsSorted = sorted(Ratings)\n",
        "RatingsSorted"
      ]
    },
    {
      "cell_type": "code",
      "execution_count": 13,
      "id": "00a5b88a",
      "metadata": {
        "colab": {
          "base_uri": "https://localhost:8080/"
        },
        "id": "00a5b88a",
        "outputId": "385105ef-81d2-43e8-a451-c9318ecde720"
      },
      "outputs": [
        {
          "output_type": "execute_result",
          "data": {
            "text/plain": [
              "(1, 2, ('pop', 'rock'), (3, 4), ('disco', (1, 2)))"
            ]
          },
          "metadata": {},
          "execution_count": 13
        }
      ],
      "source": [
        "NestedT = (1, 2, (\"pop\", \"rock\") ,(3,4),(\"disco\",(1,2)))\n",
        "NestedT"
      ]
    },
    {
      "cell_type": "code",
      "execution_count": 14,
      "id": "511e2626",
      "metadata": {
        "colab": {
          "base_uri": "https://localhost:8080/"
        },
        "id": "511e2626",
        "outputId": "aba1834d-a39e-44da-d2d9-3692fc899ed8"
      },
      "outputs": [
        {
          "output_type": "stream",
          "name": "stdout",
          "text": [
            "Element 0 of Tuple:  1\n",
            "Element 1 of Tuple:  2\n",
            "Element 2 of Tuple:  ('pop', 'rock')\n",
            "Element 3 of Tuple:  (3, 4)\n",
            "Element 4 of Tuple:  ('disco', (1, 2))\n"
          ]
        }
      ],
      "source": [
        "print(\"Element 0 of Tuple: \", NestedT[0])\n",
        "print(\"Element 1 of Tuple: \", NestedT[1])\n",
        "print(\"Element 2 of Tuple: \", NestedT[2])\n",
        "print(\"Element 3 of Tuple: \", NestedT[3])\n",
        "print(\"Element 4 of Tuple: \", NestedT[4])"
      ]
    },
    {
      "cell_type": "code",
      "execution_count": 15,
      "id": "a1b23e15",
      "metadata": {
        "colab": {
          "base_uri": "https://localhost:8080/"
        },
        "id": "a1b23e15",
        "outputId": "70095bf8-ddbb-4fcb-b3c0-50128832c793"
      },
      "outputs": [
        {
          "output_type": "execute_result",
          "data": {
            "text/plain": [
              "('pop',\n",
              " 'rock',\n",
              " 'soul',\n",
              " 'hard rock',\n",
              " 'soft rock',\n",
              " 'R&B',\n",
              " 'progressive rock',\n",
              " 'disco')"
            ]
          },
          "metadata": {},
          "execution_count": 15
        }
      ],
      "source": [
        "# EJERICIO 1\n",
        "# sample tuple\n",
        "\n",
        "genres_tuple = (\"pop\", \"rock\", \"soul\", \"hard rock\", \"soft rock\", \\\n",
        "                \"R&B\", \"progressive rock\", \"disco\") \n",
        "genres_tuple"
      ]
    },
    {
      "cell_type": "code",
      "execution_count": 16,
      "id": "76f7ada7",
      "metadata": {
        "colab": {
          "base_uri": "https://localhost:8080/"
        },
        "id": "76f7ada7",
        "outputId": "165c8aab-52da-4a21-d6fa-8e161bea5f10"
      },
      "outputs": [
        {
          "output_type": "execute_result",
          "data": {
            "text/plain": [
              "8"
            ]
          },
          "metadata": {},
          "execution_count": 16
        }
      ],
      "source": [
        "# Find the length of the tuple, genres_tuple:\n",
        "len(genres_tuple)"
      ]
    },
    {
      "cell_type": "code",
      "execution_count": 17,
      "id": "3072777d",
      "metadata": {
        "colab": {
          "base_uri": "https://localhost:8080/",
          "height": 35
        },
        "id": "3072777d",
        "outputId": "9f77c0a4-6e82-418c-c978-c5f466c94fce"
      },
      "outputs": [
        {
          "output_type": "execute_result",
          "data": {
            "text/plain": [
              "'hard rock'"
            ],
            "application/vnd.google.colaboratory.intrinsic+json": {
              "type": "string"
            }
          },
          "metadata": {},
          "execution_count": 17
        }
      ],
      "source": [
        "# Access the element, with respect to index 3:\n",
        "genres_tuple[3]"
      ]
    },
    {
      "cell_type": "code",
      "execution_count": 18,
      "id": "7f2cbbf0",
      "metadata": {
        "colab": {
          "base_uri": "https://localhost:8080/"
        },
        "id": "7f2cbbf0",
        "outputId": "3a1bff00-f2a7-41cc-bbab-8619f2626bf4"
      },
      "outputs": [
        {
          "output_type": "execute_result",
          "data": {
            "text/plain": [
              "('hard rock', 'soft rock', 'R&B')"
            ]
          },
          "metadata": {},
          "execution_count": 18
        }
      ],
      "source": [
        "# Use slicing to obtain indexes 3, 4 and 5:\n",
        "genres_tuple[3:6]"
      ]
    },
    {
      "cell_type": "code",
      "execution_count": 19,
      "id": "11bb7e05",
      "metadata": {
        "colab": {
          "base_uri": "https://localhost:8080/"
        },
        "id": "11bb7e05",
        "outputId": "ea0fa3a6-31d8-4e95-c762-51d4c42f1ef6"
      },
      "outputs": [
        {
          "output_type": "execute_result",
          "data": {
            "text/plain": [
              "('pop', 'rock')"
            ]
          },
          "metadata": {},
          "execution_count": 19
        }
      ],
      "source": [
        "# Find the first two elements of the tuple genres_tuple\n",
        "genres_tuple[:2]"
      ]
    },
    {
      "cell_type": "code",
      "execution_count": 20,
      "id": "fa1431cc",
      "metadata": {
        "colab": {
          "base_uri": "https://localhost:8080/"
        },
        "id": "fa1431cc",
        "outputId": "ce5309a6-465d-4a00-c243-948bb939e370"
      },
      "outputs": [
        {
          "output_type": "execute_result",
          "data": {
            "text/plain": [
              "7"
            ]
          },
          "metadata": {},
          "execution_count": 20
        }
      ],
      "source": [
        "# Find the first index of \"disco\"\n",
        "genres_tuple.index('disco')"
      ]
    },
    {
      "cell_type": "code",
      "execution_count": 21,
      "id": "55340b47",
      "metadata": {
        "colab": {
          "base_uri": "https://localhost:8080/"
        },
        "id": "55340b47",
        "outputId": "f3d88c63-89de-4ce0-a157-569e3d3fdb78"
      },
      "outputs": [
        {
          "output_type": "execute_result",
          "data": {
            "text/plain": [
              "[-5, -3, 1]"
            ]
          },
          "metadata": {},
          "execution_count": 21
        }
      ],
      "source": [
        "# Generate a sorted List from the Tuple C_tuple=(-5, 1, -3)\n",
        "C_tuple = (-5, 1, -3)\n",
        "C_list = sorted(C_tuple)\n",
        "C_list"
      ]
    },
    {
      "cell_type": "code",
      "execution_count": 22,
      "id": "4f2c6da0",
      "metadata": {
        "colab": {
          "base_uri": "https://localhost:8080/"
        },
        "id": "4f2c6da0",
        "outputId": "e4b058eb-3639-4394-af02-e024bab66307"
      },
      "outputs": [
        {
          "output_type": "stream",
          "name": "stdout",
          "text": [
            "A: ['hard rock', 10, 1.2]\n",
            "B: ['hard rock', 10, 1.2]\n"
          ]
        }
      ],
      "source": [
        "# Listas\n",
        "A = [\"hard rock\", 10, 1.2]\n",
        "B = A\n",
        "print('A:', A)\n",
        "print('B:', B)"
      ]
    },
    {
      "cell_type": "code",
      "execution_count": 23,
      "id": "38304189",
      "metadata": {
        "id": "38304189"
      },
      "outputs": [],
      "source": [
        "A[0] = 'Mau'"
      ]
    },
    {
      "cell_type": "code",
      "execution_count": 24,
      "id": "ebd7a30e",
      "metadata": {
        "colab": {
          "base_uri": "https://localhost:8080/"
        },
        "id": "ebd7a30e",
        "outputId": "d061293c-f936-4e07-ad3f-077432a06af5"
      },
      "outputs": [
        {
          "output_type": "stream",
          "name": "stdout",
          "text": [
            "A: ['Mau', 10, 1.2]\n",
            "B: ['Mau', 10, 1.2]\n"
          ]
        }
      ],
      "source": [
        "print('A:', A)\n",
        "print('B:', B)"
      ]
    },
    {
      "cell_type": "code",
      "execution_count": 25,
      "id": "d08e494e",
      "metadata": {
        "colab": {
          "base_uri": "https://localhost:8080/"
        },
        "id": "d08e494e",
        "outputId": "b01515ad-bb15-4675-84cc-a403e19a1216"
      },
      "outputs": [
        {
          "output_type": "execute_result",
          "data": {
            "text/plain": [
              "['Mau', 10, 1.2]"
            ]
          },
          "metadata": {},
          "execution_count": 25
        }
      ],
      "source": [
        "B = A[:]\n",
        "B"
      ]
    },
    {
      "cell_type": "code",
      "execution_count": 26,
      "id": "40acfe0e",
      "metadata": {
        "colab": {
          "base_uri": "https://localhost:8080/"
        },
        "id": "40acfe0e",
        "outputId": "5d234d27-8d1e-49c2-8067-f792869fbf29"
      },
      "outputs": [
        {
          "output_type": "execute_result",
          "data": {
            "text/plain": [
              "[1, 'hello', [1, 2, 3], True]"
            ]
          },
          "metadata": {},
          "execution_count": 26
        }
      ],
      "source": [
        "# EJERCICIO 2\n",
        "# Create a list a_list, with the following elements 1, hello, [1,2,3] and True\n",
        "lista = [1, 'hello', [1,2,3], True]\n",
        "lista"
      ]
    },
    {
      "cell_type": "code",
      "execution_count": 27,
      "id": "ba860b32",
      "metadata": {
        "colab": {
          "base_uri": "https://localhost:8080/",
          "height": 35
        },
        "id": "ba860b32",
        "outputId": "79cbe987-5953-4ece-8a0d-ba3ca38131c1"
      },
      "outputs": [
        {
          "output_type": "execute_result",
          "data": {
            "text/plain": [
              "'hello'"
            ],
            "application/vnd.google.colaboratory.intrinsic+json": {
              "type": "string"
            }
          },
          "metadata": {},
          "execution_count": 27
        }
      ],
      "source": [
        "# Find the value stored at index 1 of a_list\n",
        "lista[1]"
      ]
    },
    {
      "cell_type": "code",
      "execution_count": 28,
      "id": "abcaf01d",
      "metadata": {
        "colab": {
          "base_uri": "https://localhost:8080/"
        },
        "id": "abcaf01d",
        "outputId": "09872543-3992-4171-a751-9f64d6f43f75"
      },
      "outputs": [
        {
          "output_type": "execute_result",
          "data": {
            "text/plain": [
              "['hello', [1, 2, 3], True]"
            ]
          },
          "metadata": {},
          "execution_count": 28
        }
      ],
      "source": [
        "# Retrieve the elements stored at index 1, 2 and 3 of a_list\n",
        "lista[1:4]"
      ]
    },
    {
      "cell_type": "code",
      "execution_count": 29,
      "id": "d9cda4b0",
      "metadata": {
        "colab": {
          "base_uri": "https://localhost:8080/"
        },
        "id": "d9cda4b0",
        "outputId": "fef65d82-cfae-44d5-a176-7c590b742285"
      },
      "outputs": [
        {
          "output_type": "execute_result",
          "data": {
            "text/plain": [
              "[1, 'a', 2, 1, 'd']"
            ]
          },
          "metadata": {},
          "execution_count": 29
        }
      ],
      "source": [
        "# Concatenate the following lists A = [1, 'a'] and B = [2, 1, 'd']:\n",
        "A = [1, 'a'] \n",
        "B = [2, 1, 'd']\n",
        "A + B"
      ]
    },
    {
      "cell_type": "code",
      "execution_count": 30,
      "id": "36001b92",
      "metadata": {
        "colab": {
          "base_uri": "https://localhost:8080/"
        },
        "id": "36001b92",
        "outputId": "837a1652-d3ed-4d75-86dc-7fd0e7815f7a"
      },
      "outputs": [
        {
          "output_type": "execute_result",
          "data": {
            "text/plain": [
              "{'electronic music', 'house', 'rap'}"
            ]
          },
          "metadata": {},
          "execution_count": 30
        }
      ],
      "source": [
        "# EJERICIO 3\n",
        "# Convert the list ['rap','house','electronic music', 'rap'] to a set:\n",
        "set(['rap','house','electronic music','rap'])"
      ]
    },
    {
      "cell_type": "code",
      "execution_count": 31,
      "id": "24b131cc",
      "metadata": {
        "colab": {
          "base_uri": "https://localhost:8080/"
        },
        "id": "24b131cc",
        "outputId": "175cc5f8-ef24-4ca2-b40c-5ba205685ebe"
      },
      "outputs": [
        {
          "output_type": "stream",
          "name": "stdout",
          "text": [
            "6\n",
            "3\n",
            "False\n"
          ]
        }
      ],
      "source": [
        "# Consider the list A = [1, 2, 2, 1] and set B = set([1, 2, 2, 1]), does sum(A) == sum(B)?\n",
        "A = [1, 2, 2, 1]  \n",
        "B = set([1, 2, 2, 1])\n",
        "print(sum(A))\n",
        "print(sum(B))\n",
        "print(sum(A) == sum(B))"
      ]
    },
    {
      "cell_type": "code",
      "execution_count": 32,
      "id": "50215076",
      "metadata": {
        "colab": {
          "base_uri": "https://localhost:8080/"
        },
        "id": "50215076",
        "outputId": "3379b1c6-48b2-4b7d-8a01-545ea353550c"
      },
      "outputs": [
        {
          "output_type": "stream",
          "name": "stdout",
          "text": [
            "{'Thriller', 'Back in Black', 'The Dark Side of the Moon', 'AC/DC'}\n"
          ]
        }
      ],
      "source": [
        "# Create a new set album_set3 that is the union of album_set1 and album_set2:\n",
        "album_set1 = set([\"Thriller\", 'AC/DC', 'Back in Black'])\n",
        "album_set2 = set([ \"AC/DC\", \"Back in Black\", \"The Dark Side of the Moon\"])\n",
        "\n",
        "album_set3 = album_set1.union(album_set2)\n",
        "print(album_set3)"
      ]
    },
    {
      "cell_type": "code",
      "execution_count": 33,
      "id": "879a4d00",
      "metadata": {
        "colab": {
          "base_uri": "https://localhost:8080/"
        },
        "id": "879a4d00",
        "outputId": "ec20a140-a400-4dcb-9e05-e081818142b0"
      },
      "outputs": [
        {
          "output_type": "execute_result",
          "data": {
            "text/plain": [
              "True"
            ]
          },
          "metadata": {},
          "execution_count": 33
        }
      ],
      "source": [
        "# Find out if album_set1 is a subset of album_set3:\n",
        "album_set1.issubset(album_set3)"
      ]
    },
    {
      "cell_type": "code",
      "execution_count": 34,
      "id": "aa18fbc7",
      "metadata": {
        "colab": {
          "base_uri": "https://localhost:8080/"
        },
        "id": "aa18fbc7",
        "outputId": "3d0de80d-6263-4c76-e4e1-fc4b1900f7c7"
      },
      "outputs": [
        {
          "output_type": "execute_result",
          "data": {
            "text/plain": [
              "{'The Bodyguard': '1992', 'Saturday Night Fever': '1977'}"
            ]
          },
          "metadata": {},
          "execution_count": 34
        }
      ],
      "source": [
        "# EJERICIO 4\n",
        "soundtrack_dic = {\"The Bodyguard\":\"1992\", \"Saturday Night Fever\":\"1977\"}\n",
        "soundtrack_dic"
      ]
    },
    {
      "cell_type": "code",
      "execution_count": 35,
      "id": "da3d2daa",
      "metadata": {
        "colab": {
          "base_uri": "https://localhost:8080/"
        },
        "id": "da3d2daa",
        "outputId": "11fb4ea8-d736-4b67-b45c-6a06b32e3cc4"
      },
      "outputs": [
        {
          "output_type": "execute_result",
          "data": {
            "text/plain": [
              "dict_keys(['The Bodyguard', 'Saturday Night Fever'])"
            ]
          },
          "metadata": {},
          "execution_count": 35
        }
      ],
      "source": [
        "# a) In the dictionary soundtrack_dic what are the keys ?\n",
        "soundtrack_dic.keys()"
      ]
    },
    {
      "cell_type": "code",
      "execution_count": 36,
      "id": "eca1d97e",
      "metadata": {
        "colab": {
          "base_uri": "https://localhost:8080/"
        },
        "id": "eca1d97e",
        "outputId": "6f95ba0b-2628-4f7e-c905-39a1c389042b"
      },
      "outputs": [
        {
          "output_type": "execute_result",
          "data": {
            "text/plain": [
              "dict_values(['1992', '1977'])"
            ]
          },
          "metadata": {},
          "execution_count": 36
        }
      ],
      "source": [
        "# b) In the dictionary soundtrack_dic what are the values ?\n",
        "soundtrack_dic.values()"
      ]
    },
    {
      "cell_type": "code",
      "execution_count": 37,
      "id": "e7daf807",
      "metadata": {
        "colab": {
          "base_uri": "https://localhost:8080/"
        },
        "id": "e7daf807",
        "outputId": "1b146ffc-667b-4201-ac3d-5c819c6ce1d7"
      },
      "outputs": [
        {
          "output_type": "execute_result",
          "data": {
            "text/plain": [
              "{'The Bodyguard': 50, 'Back in Black': 50, 'Thriller': 65}"
            ]
          },
          "metadata": {},
          "execution_count": 37
        }
      ],
      "source": [
        "# a) Create a dictionary album_sales_dict where the keys are the album name and the sales in millions are the values.\n",
        "album_sales_dict = {\"The Bodyguard\":50, \"Back in Black\":50, \"Thriller\":65}\n",
        "album_sales_dict"
      ]
    },
    {
      "cell_type": "code",
      "execution_count": 38,
      "id": "a2927572",
      "metadata": {
        "colab": {
          "base_uri": "https://localhost:8080/"
        },
        "id": "a2927572",
        "outputId": "511175ed-2677-44bd-bc91-8ce5a1d23266"
      },
      "outputs": [
        {
          "output_type": "execute_result",
          "data": {
            "text/plain": [
              "65"
            ]
          },
          "metadata": {},
          "execution_count": 38
        }
      ],
      "source": [
        "# b) Use the dictionary to find the total sales of Thriller:\n",
        "album_sales_dict['Thriller']"
      ]
    },
    {
      "cell_type": "code",
      "execution_count": 39,
      "id": "b8cd2284",
      "metadata": {
        "colab": {
          "base_uri": "https://localhost:8080/"
        },
        "id": "b8cd2284",
        "outputId": "76ce33e9-5b83-409a-9d89-df32a6037ce3"
      },
      "outputs": [
        {
          "output_type": "execute_result",
          "data": {
            "text/plain": [
              "dict_keys(['The Bodyguard', 'Back in Black', 'Thriller'])"
            ]
          },
          "metadata": {},
          "execution_count": 39
        }
      ],
      "source": [
        "# c) Find the names of the albums from the dictionary using the method keys():\n",
        "album_sales_dict.keys()"
      ]
    },
    {
      "cell_type": "code",
      "execution_count": 40,
      "id": "6bd2b2f3",
      "metadata": {
        "colab": {
          "base_uri": "https://localhost:8080/"
        },
        "id": "6bd2b2f3",
        "outputId": "b39e7769-a7d7-4de4-aea6-fde8e2117675"
      },
      "outputs": [
        {
          "output_type": "execute_result",
          "data": {
            "text/plain": [
              "dict_values([50, 50, 65])"
            ]
          },
          "metadata": {},
          "execution_count": 40
        }
      ],
      "source": [
        "# d) Find the values of the recording sales from the dictionary using the method values:\n",
        "album_sales_dict.values()"
      ]
    }
  ],
  "metadata": {
    "kernelspec": {
      "display_name": "Python 3 (ipykernel)",
      "language": "python",
      "name": "python3"
    },
    "language_info": {
      "codemirror_mode": {
        "name": "ipython",
        "version": 3
      },
      "file_extension": ".py",
      "mimetype": "text/x-python",
      "name": "python",
      "nbconvert_exporter": "python",
      "pygments_lexer": "ipython3",
      "version": "3.9.12"
    },
    "colab": {
      "provenance": [],
      "include_colab_link": true
    }
  },
  "nbformat": 4,
  "nbformat_minor": 5
}