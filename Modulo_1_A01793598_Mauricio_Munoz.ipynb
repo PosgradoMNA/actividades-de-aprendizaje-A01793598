{
  "cells": [
    {
      "cell_type": "markdown",
      "metadata": {
        "id": "view-in-github",
        "colab_type": "text"
      },
      "source": [
        "<a href=\"https://colab.research.google.com/github/PosgradoMNA/actividades-de-aprendizaje-A01793598/blob/main/Modulo_1_A01793598_Mauricio_Munoz.ipynb\" target=\"_parent\"><img src=\"https://colab.research.google.com/assets/colab-badge.svg\" alt=\"Open In Colab\"/></a>"
      ]
    },
    {
      "cell_type": "code",
      "execution_count": 1,
      "id": "824174b7",
      "metadata": {
        "colab": {
          "base_uri": "https://localhost:8080/"
        },
        "id": "824174b7",
        "outputId": "da7a97f1-76e4-473b-fc2f-9f1c211c7c5d"
      },
      "outputs": [
        {
          "output_type": "stream",
          "name": "stdout",
          "text": [
            "Hello, Python!\n"
          ]
        }
      ],
      "source": [
        "# Modulo 1: Practica\n",
        "\n",
        "# Try your first Python output\n",
        "\n",
        "print('Hello, Python!')"
      ]
    },
    {
      "cell_type": "code",
      "execution_count": 2,
      "id": "0802a0c5",
      "metadata": {
        "colab": {
          "base_uri": "https://localhost:8080/"
        },
        "id": "0802a0c5",
        "outputId": "7ae52255-7aa8-46ba-93ed-dcebb7296a39"
      },
      "outputs": [
        {
          "output_type": "stream",
          "name": "stdout",
          "text": [
            "3.7.14 (default, Sep  8 2022, 00:06:44) \n",
            "[GCC 7.5.0]\n"
          ]
        }
      ],
      "source": [
        "# Check the Python Version\n",
        "\n",
        "import sys\n",
        "print(sys.version)"
      ]
    },
    {
      "cell_type": "code",
      "execution_count": 3,
      "id": "dfba258c",
      "metadata": {
        "id": "dfba258c"
      },
      "outputs": [],
      "source": [
        "# Estos es una prueba de las lineas comentas en Python"
      ]
    },
    {
      "cell_type": "code",
      "execution_count": 4,
      "id": "816edba3",
      "metadata": {
        "colab": {
          "base_uri": "https://localhost:8080/"
        },
        "id": "816edba3",
        "outputId": "593858d5-8792-4398-d473-a2338f862bdd"
      },
      "outputs": [
        {
          "output_type": "stream",
          "name": "stdout",
          "text": [
            "Hello, Python!\n"
          ]
        }
      ],
      "source": [
        "# Print string as error message\n",
        "\n",
        "# El objetivo de esta linea de codigo era verificar que si no reconoce un comando python nos arroja error\n",
        "# frint(\"Hello, Python!\") \n",
        "\n",
        "# Linea de código corregida\n",
        "print(\"Hello, Python!\") "
      ]
    },
    {
      "cell_type": "code",
      "execution_count": 5,
      "id": "e6e8b4f3",
      "metadata": {
        "colab": {
          "base_uri": "https://localhost:8080/"
        },
        "id": "e6e8b4f3",
        "outputId": "a8cb8e82-eec9-4d48-b7fa-94e73955a8b2"
      },
      "outputs": [
        {
          "output_type": "stream",
          "name": "stdout",
          "text": [
            "Hello, Python!\n"
          ]
        }
      ],
      "source": [
        "# Try to see built-in error message\n",
        "\n",
        "# El objetivo de esta linea de codigo era verificar que si no se cierra comillas python nos arroja error\n",
        "# print(\"Hello, Python!)\n",
        "      \n",
        "# Linea de código corregida\n",
        "print(\"Hello, Python!\") "
      ]
    },
    {
      "cell_type": "code",
      "execution_count": 6,
      "id": "c3d34ff4",
      "metadata": {
        "colab": {
          "base_uri": "https://localhost:8080/"
        },
        "id": "c3d34ff4",
        "outputId": "574c63de-b9ba-43b8-ac78-be07ba0d40fc"
      },
      "outputs": [
        {
          "output_type": "stream",
          "name": "stdout",
          "text": [
            "This will be printed\n",
            "This will NOT be printed\n"
          ]
        }
      ],
      "source": [
        "print(\"This will be printed\")\n",
        "# frint(\"This will cause an error\") Imprime unicame el error\n",
        "print(\"This will NOT be printed\")"
      ]
    },
    {
      "cell_type": "code",
      "execution_count": 7,
      "id": "6d400a3d",
      "metadata": {
        "colab": {
          "base_uri": "https://localhost:8080/"
        },
        "id": "6d400a3d",
        "outputId": "fbc9d12e-a26e-47f1-927c-e9fbcdceb075"
      },
      "outputs": [
        {
          "output_type": "stream",
          "name": "stdout",
          "text": [
            "Hola Mundo!\n",
            "Hola Mundo!\n"
          ]
        }
      ],
      "source": [
        "# EJERCICIO 1\n",
        "\n",
        "# Write your code below. Don't forget to press Shift+Enter to execute the cell\n",
        "print('Hola Mundo!')\n",
        "\n",
        "# Write your code below. Don't forget to press Shift+Enter to execute the cell\n",
        "\n",
        "print('Hola Mundo!') # Print the traditional hello world"
      ]
    },
    {
      "cell_type": "code",
      "execution_count": 8,
      "id": "d832c342",
      "metadata": {
        "colab": {
          "base_uri": "https://localhost:8080/"
        },
        "id": "d832c342",
        "outputId": "cca29a22-1372-44b6-a5a4-a241765240b5"
      },
      "outputs": [
        {
          "output_type": "execute_result",
          "data": {
            "text/plain": [
              "11"
            ]
          },
          "metadata": {},
          "execution_count": 8
        }
      ],
      "source": [
        "# Integer\n",
        "\n",
        "11"
      ]
    },
    {
      "cell_type": "code",
      "execution_count": 9,
      "id": "ccf60a82",
      "metadata": {
        "colab": {
          "base_uri": "https://localhost:8080/"
        },
        "id": "ccf60a82",
        "outputId": "2cd96818-54bc-480e-c00c-e785bd0f2746"
      },
      "outputs": [
        {
          "output_type": "execute_result",
          "data": {
            "text/plain": [
              "2.14"
            ]
          },
          "metadata": {},
          "execution_count": 9
        }
      ],
      "source": [
        "# Float\n",
        "\n",
        "2.14"
      ]
    },
    {
      "cell_type": "code",
      "execution_count": 10,
      "id": "71372274",
      "metadata": {
        "colab": {
          "base_uri": "https://localhost:8080/",
          "height": 35
        },
        "id": "71372274",
        "outputId": "f8c6411f-469d-4d11-e498-1f78d6f84b0d"
      },
      "outputs": [
        {
          "output_type": "execute_result",
          "data": {
            "text/plain": [
              "'Hello, Python 101!'"
            ],
            "application/vnd.google.colaboratory.intrinsic+json": {
              "type": "string"
            }
          },
          "metadata": {},
          "execution_count": 10
        }
      ],
      "source": [
        "# String\n",
        "\n",
        "\"Hello, Python 101!\""
      ]
    },
    {
      "cell_type": "code",
      "execution_count": 11,
      "id": "2163f33c",
      "metadata": {
        "colab": {
          "base_uri": "https://localhost:8080/"
        },
        "id": "2163f33c",
        "outputId": "798c73a6-f7b1-40ae-b522-4fd66025c7ed"
      },
      "outputs": [
        {
          "output_type": "execute_result",
          "data": {
            "text/plain": [
              "int"
            ]
          },
          "metadata": {},
          "execution_count": 11
        }
      ],
      "source": [
        "# Type of 12\n",
        "\n",
        "type(12)"
      ]
    },
    {
      "cell_type": "code",
      "execution_count": 12,
      "id": "0cc6118d",
      "metadata": {
        "colab": {
          "base_uri": "https://localhost:8080/"
        },
        "id": "0cc6118d",
        "outputId": "00ab3494-dc0f-4d96-93c0-88b9c0fe4c70"
      },
      "outputs": [
        {
          "output_type": "execute_result",
          "data": {
            "text/plain": [
              "float"
            ]
          },
          "metadata": {},
          "execution_count": 12
        }
      ],
      "source": [
        "# Type of 2.14\n",
        "\n",
        "type(2.14)"
      ]
    },
    {
      "cell_type": "code",
      "execution_count": 13,
      "id": "a9bfdf9f",
      "metadata": {
        "colab": {
          "base_uri": "https://localhost:8080/"
        },
        "id": "a9bfdf9f",
        "outputId": "ee2171a6-1b9d-43c7-a3e6-ff8f08e036ff"
      },
      "outputs": [
        {
          "output_type": "execute_result",
          "data": {
            "text/plain": [
              "str"
            ]
          },
          "metadata": {},
          "execution_count": 13
        }
      ],
      "source": [
        "# Type of \"Hello, Python 101!\"\n",
        "\n",
        "type(\"Hello, Python 101!\")"
      ]
    },
    {
      "cell_type": "code",
      "execution_count": 14,
      "id": "b998d990",
      "metadata": {
        "colab": {
          "base_uri": "https://localhost:8080/"
        },
        "id": "b998d990",
        "outputId": "f5462482-f554-48c9-ec76-49728e450db6"
      },
      "outputs": [
        {
          "output_type": "execute_result",
          "data": {
            "text/plain": [
              "float"
            ]
          },
          "metadata": {},
          "execution_count": 14
        }
      ],
      "source": [
        "# EJERCICIO 2\n",
        "\n",
        "# Write your code below. Don't forget to press Shift+Enter to execute the cell\n",
        "type(12.0)"
      ]
    },
    {
      "cell_type": "code",
      "execution_count": 15,
      "id": "4b5f32db",
      "metadata": {
        "colab": {
          "base_uri": "https://localhost:8080/"
        },
        "id": "4b5f32db",
        "outputId": "bf51b001-9471-421b-fbfb-85080ee0f2d3"
      },
      "outputs": [
        {
          "output_type": "execute_result",
          "data": {
            "text/plain": [
              "int"
            ]
          },
          "metadata": {},
          "execution_count": 15
        }
      ],
      "source": [
        "# Print the type of -1\n",
        "\n",
        "type(-1)"
      ]
    },
    {
      "cell_type": "code",
      "execution_count": 16,
      "id": "a32e5320",
      "metadata": {
        "colab": {
          "base_uri": "https://localhost:8080/"
        },
        "id": "a32e5320",
        "outputId": "4ca066cc-ffcf-4ab8-ad26-1892e5b6b463"
      },
      "outputs": [
        {
          "output_type": "execute_result",
          "data": {
            "text/plain": [
              "sys.float_info(max=1.7976931348623157e+308, max_exp=1024, max_10_exp=308, min=2.2250738585072014e-308, min_exp=-1021, min_10_exp=-307, dig=15, mant_dig=53, epsilon=2.220446049250313e-16, radix=2, rounds=1)"
            ]
          },
          "metadata": {},
          "execution_count": 16
        }
      ],
      "source": [
        "import sys\n",
        "sys.float_info"
      ]
    },
    {
      "cell_type": "code",
      "execution_count": 17,
      "id": "2dcbecdd",
      "metadata": {
        "colab": {
          "base_uri": "https://localhost:8080/"
        },
        "id": "2dcbecdd",
        "outputId": "34724b3f-c6ef-4d06-b5c6-0cf5ca362a41"
      },
      "outputs": [
        {
          "output_type": "execute_result",
          "data": {
            "text/plain": [
              "float"
            ]
          },
          "metadata": {},
          "execution_count": 17
        }
      ],
      "source": [
        "# Print the type of 1.0\n",
        "\n",
        "type(1.0) # Notice that 1 is an int, and 1.0 is a float"
      ]
    },
    {
      "cell_type": "code",
      "execution_count": 18,
      "id": "ff006979",
      "metadata": {
        "colab": {
          "base_uri": "https://localhost:8080/"
        },
        "id": "ff006979",
        "outputId": "e36d16e1-9d47-4cb6-8d4c-800d2ba2f443"
      },
      "outputs": [
        {
          "output_type": "execute_result",
          "data": {
            "text/plain": [
              "2.0"
            ]
          },
          "metadata": {},
          "execution_count": 18
        }
      ],
      "source": [
        "float(2)"
      ]
    },
    {
      "cell_type": "code",
      "execution_count": 19,
      "id": "ba42ff01",
      "metadata": {
        "colab": {
          "base_uri": "https://localhost:8080/"
        },
        "id": "ba42ff01",
        "outputId": "f21c2d44-ec13-4125-9cf3-712449318330"
      },
      "outputs": [
        {
          "output_type": "execute_result",
          "data": {
            "text/plain": [
              "float"
            ]
          },
          "metadata": {},
          "execution_count": 19
        }
      ],
      "source": [
        "# Convert integer 2 to a float and check its type\n",
        "\n",
        "type(float(2))"
      ]
    },
    {
      "cell_type": "code",
      "execution_count": 20,
      "id": "e6537ab1",
      "metadata": {
        "colab": {
          "base_uri": "https://localhost:8080/"
        },
        "id": "e6537ab1",
        "outputId": "972c0b44-5169-40d4-a4f4-4c667bbdcf5f"
      },
      "outputs": [
        {
          "output_type": "execute_result",
          "data": {
            "text/plain": [
              "1"
            ]
          },
          "metadata": {},
          "execution_count": 20
        }
      ],
      "source": [
        "# Casting 1.1 to integer will result in loss of information\n",
        "\n",
        "int(1.8)"
      ]
    },
    {
      "cell_type": "code",
      "execution_count": 21,
      "id": "7bc2ddca",
      "metadata": {
        "colab": {
          "base_uri": "https://localhost:8080/"
        },
        "id": "7bc2ddca",
        "outputId": "150f2c38-bb9e-45fe-f340-c13107533e20"
      },
      "outputs": [
        {
          "output_type": "execute_result",
          "data": {
            "text/plain": [
              "1.8"
            ]
          },
          "metadata": {},
          "execution_count": 21
        }
      ],
      "source": [
        "round(1.8, 1)"
      ]
    },
    {
      "cell_type": "code",
      "execution_count": 22,
      "id": "1be186d1",
      "metadata": {
        "colab": {
          "base_uri": "https://localhost:8080/"
        },
        "id": "1be186d1",
        "outputId": "8b51ef4d-3b97-45b3-88da-47728704d31d"
      },
      "outputs": [
        {
          "output_type": "execute_result",
          "data": {
            "text/plain": [
              "1"
            ]
          },
          "metadata": {},
          "execution_count": 22
        }
      ],
      "source": [
        "# Convert a string into an integer\n",
        "\n",
        "int('1')"
      ]
    },
    {
      "cell_type": "code",
      "execution_count": 23,
      "id": "e8191d5b",
      "metadata": {
        "colab": {
          "base_uri": "https://localhost:8080/"
        },
        "id": "e8191d5b",
        "outputId": "37288341-e34b-4430-b310-7b504bd104e0"
      },
      "outputs": [
        {
          "output_type": "stream",
          "name": "stdout",
          "text": [
            "1\n",
            "2\n"
          ]
        }
      ],
      "source": [
        "# Convert a string into an integer with error\n",
        "\n",
        "# El objetivo de esta linea de codigo era verificar no se puede transformar un string en numero python nos arroja error\n",
        "# int('1 or 2 people')\n",
        "\n",
        "# Linea de código corregida\n",
        "print(int('1'))\n",
        "print(int('2'))"
      ]
    },
    {
      "cell_type": "code",
      "execution_count": 24,
      "id": "0b2d34e7",
      "metadata": {
        "colab": {
          "base_uri": "https://localhost:8080/"
        },
        "id": "0b2d34e7",
        "outputId": "c3d0a425-dc4c-4ea7-dd5b-8741c64d7455"
      },
      "outputs": [
        {
          "output_type": "execute_result",
          "data": {
            "text/plain": [
              "1.2"
            ]
          },
          "metadata": {},
          "execution_count": 24
        }
      ],
      "source": [
        "# El objetivo de esta linea de codigo era verificar no se convitar los tipo de comillas, python nos arroja error\n",
        "# float('1.2\")\n",
        "      \n",
        "# Linea de código corregida\n",
        "float('1.2')"
      ]
    },
    {
      "cell_type": "code",
      "execution_count": 25,
      "id": "85e0a0d7",
      "metadata": {
        "colab": {
          "base_uri": "https://localhost:8080/"
        },
        "id": "85e0a0d7",
        "outputId": "30eb0d27-9f1f-4e0b-fc5e-dd49a88d9b8b"
      },
      "outputs": [
        {
          "output_type": "execute_result",
          "data": {
            "text/plain": [
              "True"
            ]
          },
          "metadata": {},
          "execution_count": 25
        }
      ],
      "source": [
        "# Convert 1 to boolean\n",
        "\n",
        "bool(1)"
      ]
    },
    {
      "cell_type": "code",
      "execution_count": 26,
      "id": "4475f269",
      "metadata": {
        "colab": {
          "base_uri": "https://localhost:8080/"
        },
        "id": "4475f269",
        "outputId": "cbfb0356-0cac-4a57-bece-05037ebc2501"
      },
      "outputs": [
        {
          "output_type": "execute_result",
          "data": {
            "text/plain": [
              "False"
            ]
          },
          "metadata": {},
          "execution_count": 26
        }
      ],
      "source": [
        "# Convert 0 to boolean\n",
        "\n",
        "bool(0)"
      ]
    },
    {
      "cell_type": "code",
      "execution_count": 27,
      "id": "8865d3d2",
      "metadata": {
        "colab": {
          "base_uri": "https://localhost:8080/"
        },
        "id": "8865d3d2",
        "outputId": "08eef11f-3f49-4dd6-dfa8-1a10b212b9a1"
      },
      "outputs": [
        {
          "output_type": "stream",
          "name": "stdout",
          "text": [
            "3.0\n"
          ]
        },
        {
          "output_type": "execute_result",
          "data": {
            "text/plain": [
              "float"
            ]
          },
          "metadata": {},
          "execution_count": 27
        }
      ],
      "source": [
        "# EJERCICIO 3\n",
        "# What is the data type of the result of: 6 / 2?\n",
        "print(6 / 2)\n",
        "type(6 / 2) # Float"
      ]
    },
    {
      "cell_type": "code",
      "execution_count": 28,
      "id": "b05b304c",
      "metadata": {
        "colab": {
          "base_uri": "https://localhost:8080/"
        },
        "id": "b05b304c",
        "outputId": "dbbc2533-098c-4071-f3e0-d1f2f7a3ad14"
      },
      "outputs": [
        {
          "output_type": "stream",
          "name": "stdout",
          "text": [
            "3\n"
          ]
        },
        {
          "output_type": "execute_result",
          "data": {
            "text/plain": [
              "int"
            ]
          },
          "metadata": {},
          "execution_count": 28
        }
      ],
      "source": [
        "# What is the type of the result of: 6 // 2?\n",
        "print(6 // 2)\n",
        "type(6 // 2) # Entero porque el modelo de 6 entre 2  es 3."
      ]
    },
    {
      "cell_type": "code",
      "execution_count": 29,
      "id": "be8f182f",
      "metadata": {
        "colab": {
          "base_uri": "https://localhost:8080/"
        },
        "id": "be8f182f",
        "outputId": "fde4e0c7-e718-4ee2-dc1a-7e107001c35b"
      },
      "outputs": [
        {
          "output_type": "execute_result",
          "data": {
            "text/plain": [
              "160"
            ]
          },
          "metadata": {},
          "execution_count": 29
        }
      ],
      "source": [
        "# Addition operation expression\n",
        "\n",
        "43 + 60 + 16 + 41"
      ]
    },
    {
      "cell_type": "code",
      "execution_count": 30,
      "id": "d182915b",
      "metadata": {
        "colab": {
          "base_uri": "https://localhost:8080/"
        },
        "id": "d182915b",
        "outputId": "780eb748-59b7-4c5b-ece9-7ee46ccd2ffa"
      },
      "outputs": [
        {
          "output_type": "execute_result",
          "data": {
            "text/plain": [
              "-10"
            ]
          },
          "metadata": {},
          "execution_count": 30
        }
      ],
      "source": [
        "# Subtraction operation expression\n",
        "\n",
        "50 - 60"
      ]
    },
    {
      "cell_type": "code",
      "execution_count": 31,
      "id": "e4e06080",
      "metadata": {
        "colab": {
          "base_uri": "https://localhost:8080/"
        },
        "id": "e4e06080",
        "outputId": "186fda8c-d45e-4971-b68c-46f2b8ee4485"
      },
      "outputs": [
        {
          "output_type": "execute_result",
          "data": {
            "text/plain": [
              "25"
            ]
          },
          "metadata": {},
          "execution_count": 31
        }
      ],
      "source": [
        "# Multiplication operation expression\n",
        "\n",
        "5 * 5"
      ]
    },
    {
      "cell_type": "code",
      "execution_count": 32,
      "id": "cab84b24",
      "metadata": {
        "colab": {
          "base_uri": "https://localhost:8080/"
        },
        "id": "cab84b24",
        "outputId": "bd535512-ca68-42ff-fbe3-cf35b0674d97"
      },
      "outputs": [
        {
          "output_type": "execute_result",
          "data": {
            "text/plain": [
              "5.0"
            ]
          },
          "metadata": {},
          "execution_count": 32
        }
      ],
      "source": [
        "# Division operation expression\n",
        "\n",
        "25 / 5"
      ]
    },
    {
      "cell_type": "code",
      "execution_count": 33,
      "id": "993bc560",
      "metadata": {
        "colab": {
          "base_uri": "https://localhost:8080/"
        },
        "id": "993bc560",
        "outputId": "f9e9bbb3-6490-4477-9208-2d2212923caf"
      },
      "outputs": [
        {
          "output_type": "execute_result",
          "data": {
            "text/plain": [
              "4.166666666666667"
            ]
          },
          "metadata": {},
          "execution_count": 33
        }
      ],
      "source": [
        "# Division operation expression\n",
        "\n",
        "25 / 6"
      ]
    },
    {
      "cell_type": "code",
      "execution_count": 34,
      "id": "5e85279b",
      "metadata": {
        "colab": {
          "base_uri": "https://localhost:8080/"
        },
        "id": "5e85279b",
        "outputId": "c99c5260-4682-44ee-cee0-d3842bed89cd"
      },
      "outputs": [
        {
          "output_type": "execute_result",
          "data": {
            "text/plain": [
              "5"
            ]
          },
          "metadata": {},
          "execution_count": 34
        }
      ],
      "source": [
        "# Integer division operation expression\n",
        "\n",
        "25 // 5"
      ]
    },
    {
      "cell_type": "code",
      "execution_count": 35,
      "id": "38221aaa",
      "metadata": {
        "colab": {
          "base_uri": "https://localhost:8080/"
        },
        "id": "38221aaa",
        "outputId": "4f396bb7-03ff-4390-cadc-7fe4c849818c"
      },
      "outputs": [
        {
          "output_type": "execute_result",
          "data": {
            "text/plain": [
              "4"
            ]
          },
          "metadata": {},
          "execution_count": 35
        }
      ],
      "source": [
        "# Integer division operation expression\n",
        "\n",
        "25 // 6"
      ]
    },
    {
      "cell_type": "code",
      "execution_count": 36,
      "id": "d4aa4e63",
      "metadata": {
        "colab": {
          "base_uri": "https://localhost:8080/"
        },
        "id": "d4aa4e63",
        "outputId": "2703ab3b-0fd3-422c-efda-7503d22f1de1"
      },
      "outputs": [
        {
          "output_type": "stream",
          "name": "stdout",
          "text": [
            "Son  2.67  horas\n"
          ]
        }
      ],
      "source": [
        "# EJERCICIO 4\n",
        "# Let's write an expression that calculates how many hours there are in 160 minutes:\n",
        "# Mediante una regla de 3 simple sabes que 1 hora tiene 60 minutos entonces 160 minutos cuantas horas serán:\n",
        "\n",
        "print('Son ', round((1 * 160) / 60, 2), ' horas')"
      ]
    },
    {
      "cell_type": "code",
      "execution_count": 37,
      "id": "32d040d6",
      "metadata": {
        "colab": {
          "base_uri": "https://localhost:8080/"
        },
        "id": "32d040d6",
        "outputId": "6a886b8f-55ee-44af-8f2e-6c99d1ac010d"
      },
      "outputs": [
        {
          "output_type": "stream",
          "name": "stdout",
          "text": [
            "150\n",
            "1920\n"
          ]
        },
        {
          "output_type": "execute_result",
          "data": {
            "text/plain": [
              "False"
            ]
          },
          "metadata": {},
          "execution_count": 37
        }
      ],
      "source": [
        "# Mathematical expression\n",
        "print(30 + 2 * 60)\n",
        "print((30 + 2) * 60)\n",
        "30 + 2 * 60 == (30 + 2) * 60"
      ]
    },
    {
      "cell_type": "code",
      "execution_count": 38,
      "id": "c3b457b9",
      "metadata": {
        "id": "c3b457b9"
      },
      "outputs": [],
      "source": [
        "x = 43 + 60 + 16 + 41"
      ]
    },
    {
      "cell_type": "code",
      "execution_count": 39,
      "id": "7776903b",
      "metadata": {
        "colab": {
          "base_uri": "https://localhost:8080/"
        },
        "id": "7776903b",
        "outputId": "81d319b7-d771-42dd-ea2b-4abf26b398d9"
      },
      "outputs": [
        {
          "output_type": "execute_result",
          "data": {
            "text/plain": [
              "160"
            ]
          },
          "metadata": {},
          "execution_count": 39
        }
      ],
      "source": [
        "x"
      ]
    },
    {
      "cell_type": "code",
      "execution_count": 40,
      "id": "e2568e12",
      "metadata": {
        "colab": {
          "base_uri": "https://localhost:8080/"
        },
        "id": "e2568e12",
        "outputId": "d667dc0a-86fd-48ac-83b1-908e803b920c"
      },
      "outputs": [
        {
          "output_type": "execute_result",
          "data": {
            "text/plain": [
              "2.6666666666666665"
            ]
          },
          "metadata": {},
          "execution_count": 40
        }
      ],
      "source": [
        "y = x / 60\n",
        "y"
      ]
    },
    {
      "cell_type": "code",
      "execution_count": 41,
      "id": "df00cbc9",
      "metadata": {
        "colab": {
          "base_uri": "https://localhost:8080/"
        },
        "id": "df00cbc9",
        "outputId": "785c8836-c7a5-4c4a-c3d8-5f36c3c7d48b"
      },
      "outputs": [
        {
          "output_type": "execute_result",
          "data": {
            "text/plain": [
              "2.6666666666666665"
            ]
          },
          "metadata": {},
          "execution_count": 41
        }
      ],
      "source": [
        "x = x / 60\n",
        "x"
      ]
    },
    {
      "cell_type": "code",
      "execution_count": 42,
      "id": "962bb020",
      "metadata": {
        "colab": {
          "base_uri": "https://localhost:8080/"
        },
        "id": "962bb020",
        "outputId": "4ba0c030-8df7-41b3-eefa-f8a5e159ba73"
      },
      "outputs": [
        {
          "output_type": "execute_result",
          "data": {
            "text/plain": [
              "142"
            ]
          },
          "metadata": {},
          "execution_count": 42
        }
      ],
      "source": [
        "# Name the variables meaningfully\n",
        "\n",
        "total_min = 43 + 42 + 57 # Total length of albums in minutes\n",
        "total_min"
      ]
    },
    {
      "cell_type": "code",
      "execution_count": 43,
      "id": "7b0a8e27",
      "metadata": {
        "colab": {
          "base_uri": "https://localhost:8080/"
        },
        "id": "7b0a8e27",
        "outputId": "00e4b090-b73f-4a46-9554-c9c07dbb4656"
      },
      "outputs": [
        {
          "output_type": "execute_result",
          "data": {
            "text/plain": [
              "2.3666666666666667"
            ]
          },
          "metadata": {},
          "execution_count": 43
        }
      ],
      "source": [
        "# Name the variables meaningfully\n",
        "\n",
        "total_hours = total_min / 60 # Total length of albums in hours \n",
        "total_hours"
      ]
    },
    {
      "cell_type": "code",
      "execution_count": 44,
      "id": "46d7a325",
      "metadata": {
        "colab": {
          "base_uri": "https://localhost:8080/"
        },
        "id": "46d7a325",
        "outputId": "3ce65806-b781-4967-f31e-2a31fc3d7e22"
      },
      "outputs": [
        {
          "output_type": "execute_result",
          "data": {
            "text/plain": [
              "2.3666666666666667"
            ]
          },
          "metadata": {},
          "execution_count": 44
        }
      ],
      "source": [
        "# Complicate expression\n",
        "\n",
        "total_hours = (43 + 42 + 57) / 60  # Total hours in a single expression\n",
        "total_hours"
      ]
    },
    {
      "cell_type": "code",
      "execution_count": 45,
      "id": "531d58de",
      "metadata": {
        "colab": {
          "base_uri": "https://localhost:8080/"
        },
        "id": "531d58de",
        "outputId": "066dde2f-9c79-4424-8891-d0eb880a3c21"
      },
      "outputs": [
        {
          "output_type": "stream",
          "name": "stdout",
          "text": [
            "7\n",
            "10\n",
            "17\n"
          ]
        }
      ],
      "source": [
        "# EJERCICIO 5\n",
        "# What is the value of x where x = 3 + 2 * 2\n",
        "x = 3 + 2 * 2 # 7\n",
        "print(x)\n",
        "\n",
        "# What is the value of y where y = (3 + 2) * 2\n",
        "y = (3 + 2) * 2 # 10\n",
        "print(y)\n",
        "\n",
        "# What is the value of z where z = x + y?\n",
        "z = x + y # 17\n",
        "print(z)"
      ]
    },
    {
      "cell_type": "code",
      "execution_count": 46,
      "id": "0d940bf4",
      "metadata": {
        "id": "0d940bf4"
      },
      "outputs": [],
      "source": [
        "## PRACTICA CON CADENAS"
      ]
    },
    {
      "cell_type": "code",
      "execution_count": 47,
      "id": "24509ea2",
      "metadata": {
        "colab": {
          "base_uri": "https://localhost:8080/",
          "height": 35
        },
        "id": "24509ea2",
        "outputId": "3faeb0bd-1810-4f66-be5d-00012eedadb2"
      },
      "outputs": [
        {
          "output_type": "execute_result",
          "data": {
            "text/plain": [
              "'Michael Jackson'"
            ],
            "application/vnd.google.colaboratory.intrinsic+json": {
              "type": "string"
            }
          },
          "metadata": {},
          "execution_count": 47
        }
      ],
      "source": [
        "\"Michael Jackson\""
      ]
    },
    {
      "cell_type": "code",
      "execution_count": 48,
      "id": "8f8b036a",
      "metadata": {
        "colab": {
          "base_uri": "https://localhost:8080/",
          "height": 35
        },
        "id": "8f8b036a",
        "outputId": "8a07a2b2-2b32-4638-c2fb-2b0411532536"
      },
      "outputs": [
        {
          "output_type": "execute_result",
          "data": {
            "text/plain": [
              "'Michael Jackson'"
            ],
            "application/vnd.google.colaboratory.intrinsic+json": {
              "type": "string"
            }
          },
          "metadata": {},
          "execution_count": 48
        }
      ],
      "source": [
        "name = \"Michael Jackson\"\n",
        "name"
      ]
    },
    {
      "cell_type": "code",
      "execution_count": 49,
      "id": "a30143c7",
      "metadata": {
        "colab": {
          "base_uri": "https://localhost:8080/"
        },
        "id": "a30143c7",
        "outputId": "b322cf22-bfa9-46a9-afdd-a0f721814c3a"
      },
      "outputs": [
        {
          "output_type": "stream",
          "name": "stdout",
          "text": [
            "M\n"
          ]
        }
      ],
      "source": [
        "print(name[0])"
      ]
    },
    {
      "cell_type": "code",
      "execution_count": 50,
      "id": "7dcfef10",
      "metadata": {
        "colab": {
          "base_uri": "https://localhost:8080/"
        },
        "id": "7dcfef10",
        "outputId": "cdfb4cd6-5390-419c-ea79-fd7e2e9fc106"
      },
      "outputs": [
        {
          "output_type": "stream",
          "name": "stdout",
          "text": [
            "o\n"
          ]
        }
      ],
      "source": [
        "print(name[13])"
      ]
    },
    {
      "cell_type": "code",
      "execution_count": 51,
      "id": "67f52e8f",
      "metadata": {
        "colab": {
          "base_uri": "https://localhost:8080/"
        },
        "id": "67f52e8f",
        "outputId": "9c8dcf20-63ba-4095-8aa7-d71b4745c4d8"
      },
      "outputs": [
        {
          "output_type": "stream",
          "name": "stdout",
          "text": [
            "M\n"
          ]
        }
      ],
      "source": [
        "print(name[-15])"
      ]
    },
    {
      "cell_type": "code",
      "execution_count": 52,
      "id": "da67790d",
      "metadata": {
        "colab": {
          "base_uri": "https://localhost:8080/"
        },
        "id": "da67790d",
        "outputId": "0252ccd0-1141-4a36-952f-4f2a01621c7f"
      },
      "outputs": [
        {
          "output_type": "execute_result",
          "data": {
            "text/plain": [
              "15"
            ]
          },
          "metadata": {},
          "execution_count": 52
        }
      ],
      "source": [
        "len(\"Michael Jackson\")"
      ]
    },
    {
      "cell_type": "code",
      "execution_count": 53,
      "id": "57c55663",
      "metadata": {
        "colab": {
          "base_uri": "https://localhost:8080/",
          "height": 35
        },
        "id": "57c55663",
        "outputId": "6d5f7e6f-c36f-4b05-e17f-81a9561d7115"
      },
      "outputs": [
        {
          "output_type": "execute_result",
          "data": {
            "text/plain": [
              "'McalJcsn'"
            ],
            "application/vnd.google.colaboratory.intrinsic+json": {
              "type": "string"
            }
          },
          "metadata": {},
          "execution_count": 53
        }
      ],
      "source": [
        "name[::2]"
      ]
    },
    {
      "cell_type": "code",
      "execution_count": 54,
      "id": "1279dce7",
      "metadata": {
        "colab": {
          "base_uri": "https://localhost:8080/",
          "height": 35
        },
        "id": "1279dce7",
        "outputId": "288d1cff-60a5-4f8b-a2d2-dfc21ff386c1"
      },
      "outputs": [
        {
          "output_type": "execute_result",
          "data": {
            "text/plain": [
              "'Mca'"
            ],
            "application/vnd.google.colaboratory.intrinsic+json": {
              "type": "string"
            }
          },
          "metadata": {},
          "execution_count": 54
        }
      ],
      "source": [
        "name[0:5:2]"
      ]
    },
    {
      "cell_type": "code",
      "execution_count": 55,
      "id": "1860ae6f",
      "metadata": {
        "colab": {
          "base_uri": "https://localhost:8080/",
          "height": 35
        },
        "id": "1860ae6f",
        "outputId": "2430cdc2-3071-4749-9395-e60397de13a0"
      },
      "outputs": [
        {
          "output_type": "execute_result",
          "data": {
            "text/plain": [
              "'Michael Jacksonis the best'"
            ],
            "application/vnd.google.colaboratory.intrinsic+json": {
              "type": "string"
            }
          },
          "metadata": {},
          "execution_count": 55
        }
      ],
      "source": [
        "statement = name + \"is the best\"\n",
        "statement"
      ]
    },
    {
      "cell_type": "code",
      "execution_count": 56,
      "id": "4bfe3c35",
      "metadata": {
        "colab": {
          "base_uri": "https://localhost:8080/",
          "height": 35
        },
        "id": "4bfe3c35",
        "outputId": "4d67b34f-cf93-42b9-fe8e-6178eac2e8de"
      },
      "outputs": [
        {
          "output_type": "execute_result",
          "data": {
            "text/plain": [
              "'Michael JacksonMichael JacksonMichael Jackson'"
            ],
            "application/vnd.google.colaboratory.intrinsic+json": {
              "type": "string"
            }
          },
          "metadata": {},
          "execution_count": 56
        }
      ],
      "source": [
        "3 * \"Michael Jackson\""
      ]
    },
    {
      "cell_type": "code",
      "execution_count": 57,
      "id": "f4de9a87",
      "metadata": {
        "colab": {
          "base_uri": "https://localhost:8080/",
          "height": 35
        },
        "id": "f4de9a87",
        "outputId": "2d876008-24bc-417c-b29e-aed00962d25e"
      },
      "outputs": [
        {
          "output_type": "execute_result",
          "data": {
            "text/plain": [
              "'Michael Jackson is the best'"
            ],
            "application/vnd.google.colaboratory.intrinsic+json": {
              "type": "string"
            }
          },
          "metadata": {},
          "execution_count": 57
        }
      ],
      "source": [
        "name = \"Michael Jackson\"\n",
        "name = name + \" is the best\"\n",
        "name"
      ]
    },
    {
      "cell_type": "code",
      "execution_count": 58,
      "id": "49938f09",
      "metadata": {
        "colab": {
          "base_uri": "https://localhost:8080/"
        },
        "id": "49938f09",
        "outputId": "75608669-914c-4b7c-f249-4d9e39d0e0ad"
      },
      "outputs": [
        {
          "output_type": "stream",
          "name": "stdout",
          "text": [
            " Michael Jackson \n",
            " is the best\n"
          ]
        }
      ],
      "source": [
        "print(\" Michael Jackson \\n is the best\" )"
      ]
    },
    {
      "cell_type": "code",
      "execution_count": 59,
      "id": "99255a5e",
      "metadata": {
        "colab": {
          "base_uri": "https://localhost:8080/"
        },
        "id": "99255a5e",
        "outputId": "c1bfd76d-23e8-4b5b-ef23-f8090a3a80ac"
      },
      "outputs": [
        {
          "output_type": "stream",
          "name": "stdout",
          "text": [
            " Michael Jackson \t is the best\n"
          ]
        }
      ],
      "source": [
        "print(\" Michael Jackson \\t is the best\" )"
      ]
    },
    {
      "cell_type": "code",
      "execution_count": 60,
      "id": "bf76f111",
      "metadata": {
        "colab": {
          "base_uri": "https://localhost:8080/"
        },
        "id": "bf76f111",
        "outputId": "29d03415-83cd-4e0e-a5f7-6acae018b77a"
      },
      "outputs": [
        {
          "output_type": "stream",
          "name": "stdout",
          "text": [
            "before upper: Thriller is the sixth studio album\n",
            "After upper: THRILLER IS THE SIXTH STUDIO ALBUM\n",
            "After lower: thriller is the sixth studio album\n"
          ]
        }
      ],
      "source": [
        "a = \"Thriller is the sixth studio album\"\n",
        "print(\"before upper:\", a)\n",
        "b = a.upper()\n",
        "print(\"After upper:\", b)\n",
        "\n",
        "c = b.lower()\n",
        "print(\"After lower:\", c)"
      ]
    },
    {
      "cell_type": "code",
      "execution_count": 61,
      "id": "4b851054",
      "metadata": {
        "colab": {
          "base_uri": "https://localhost:8080/",
          "height": 35
        },
        "id": "4b851054",
        "outputId": "6e960d4d-ca1e-48d9-8d6a-33554c6761e3"
      },
      "outputs": [
        {
          "output_type": "execute_result",
          "data": {
            "text/plain": [
              "'Janet Jackson is the best'"
            ],
            "application/vnd.google.colaboratory.intrinsic+json": {
              "type": "string"
            }
          },
          "metadata": {},
          "execution_count": 61
        }
      ],
      "source": [
        "a = \"Michael Jackson is the best\"\n",
        "b = a.replace('Michael', 'Janet')\n",
        "b"
      ]
    },
    {
      "cell_type": "code",
      "execution_count": 62,
      "id": "169818f9",
      "metadata": {
        "colab": {
          "base_uri": "https://localhost:8080/"
        },
        "id": "169818f9",
        "outputId": "15db25a6-1877-45f8-bc3e-446f29450ed4"
      },
      "outputs": [
        {
          "output_type": "execute_result",
          "data": {
            "text/plain": [
              "5"
            ]
          },
          "metadata": {},
          "execution_count": 62
        }
      ],
      "source": [
        "name = \"Michael Jackson\"\n",
        "name.find('el')"
      ]
    },
    {
      "cell_type": "code",
      "execution_count": 63,
      "id": "51dd42a9",
      "metadata": {
        "colab": {
          "base_uri": "https://localhost:8080/"
        },
        "id": "51dd42a9",
        "outputId": "c801449a-8446-4ff4-d9f5-207184642aa0"
      },
      "outputs": [
        {
          "output_type": "execute_result",
          "data": {
            "text/plain": [
              "8"
            ]
          },
          "metadata": {},
          "execution_count": 63
        }
      ],
      "source": [
        "name.find('Jack')"
      ]
    },
    {
      "cell_type": "code",
      "execution_count": 64,
      "id": "f5a254dd",
      "metadata": {
        "colab": {
          "base_uri": "https://localhost:8080/"
        },
        "id": "f5a254dd",
        "outputId": "007f54c6-8a2b-4964-ab3b-75f72c43bd59"
      },
      "outputs": [
        {
          "output_type": "execute_result",
          "data": {
            "text/plain": [
              "-1"
            ]
          },
          "metadata": {},
          "execution_count": 64
        }
      ],
      "source": [
        "name.find('Jasdfasdasdf')"
      ]
    },
    {
      "cell_type": "code",
      "execution_count": 65,
      "id": "db5ee19f",
      "metadata": {
        "colab": {
          "base_uri": "https://localhost:8080/"
        },
        "id": "db5ee19f",
        "outputId": "47e04930-259d-4e6b-8e76-a77c144f0f84"
      },
      "outputs": [
        {
          "output_type": "stream",
          "name": "stdout",
          "text": [
            "1\n",
            "2\n",
            "12\n",
            "ABC\n",
            "correct\n",
            "\\ \n",
            "95\n",
            "Bob had a little lamb Little lamb, little lamb Bob had a little lamb Its fleece was white as snow And everywhere that Bob went Bob went, Bob went Everywhere that Bob went The lamb was sure to go\n"
          ]
        }
      ],
      "source": [
        "# EJERCICIO 6\n",
        "# What is the value of the variable a after the following code is executed?\n",
        "a = \"1\" # 1 como string\n",
        "\n",
        "print(a)\n",
        "\n",
        "# What is the value of the variable b after the following code is executed?\n",
        "b = \"2\"\n",
        "\n",
        "print(b)\n",
        "\n",
        "# What is the value of the variable c after the following code is executed?\n",
        "c = a + b\n",
        "\n",
        "print(c)\n",
        "\n",
        "# Consider the variable d use slicing to print out the first three elements:\n",
        "d = \"ABCDEFG\"\n",
        "\n",
        "print(d[:3])\n",
        "\n",
        "# Use a stride value of 2 to print out every second character of the string e\n",
        "e = 'clocrkr1e1c1t'\n",
        "\n",
        "print(e[::2])\n",
        "\n",
        "# Print out a backslash:\n",
        "print(r\"\\ \")\n",
        "\n",
        "# Consider the variable g, and find the first index of the sub-string snow:\n",
        "g = \"Mary had a little lamb Little lamb, little lamb Mary had a little lamb \\\n",
        "Its fleece was white as snow And everywhere that Mary went Mary went, Mary went \\\n",
        "Everywhere that Mary went The lamb was sure to go\"\n",
        "\n",
        "print(g.find(\"snow\"))\n",
        "\n",
        "# In the variable g, replace the sub-string Mary with Bob:\n",
        "print(g.replace(\"Mary\", \"Bob\"))"
      ]
    },
    {
      "cell_type": "code",
      "execution_count": 66,
      "id": "e41b8866",
      "metadata": {
        "colab": {
          "base_uri": "https://localhost:8080/"
        },
        "id": "e41b8866",
        "outputId": "4635ae1c-b472-4d05-843b-193ea4211517"
      },
      "outputs": [
        {
          "output_type": "stream",
          "name": "stdout",
          "text": [
            "L\n"
          ]
        }
      ],
      "source": [
        "name = 'Lizz'\n",
        "print(name[0:1])"
      ]
    },
    {
      "cell_type": "code",
      "execution_count": 67,
      "id": "92ddcd5d",
      "metadata": {
        "colab": {
          "base_uri": "https://localhost:8080/"
        },
        "id": "92ddcd5d",
        "outputId": "fdc98502-efb1-4445-8c53-71a4fb04c8f0"
      },
      "outputs": [
        {
          "output_type": "stream",
          "name": "stdout",
          "text": [
            "0246\n"
          ]
        }
      ],
      "source": [
        "var = '01234567'\n",
        "print(var[::2])"
      ]
    }
  ],
  "metadata": {
    "kernelspec": {
      "display_name": "Python 3 (ipykernel)",
      "language": "python",
      "name": "python3"
    },
    "language_info": {
      "codemirror_mode": {
        "name": "ipython",
        "version": 3
      },
      "file_extension": ".py",
      "mimetype": "text/x-python",
      "name": "python",
      "nbconvert_exporter": "python",
      "pygments_lexer": "ipython3",
      "version": "3.9.12"
    },
    "colab": {
      "provenance": [],
      "include_colab_link": true
    }
  },
  "nbformat": 4,
  "nbformat_minor": 5
}