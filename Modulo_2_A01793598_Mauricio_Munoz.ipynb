{
  "cells": [
    {
      "cell_type": "markdown",
      "metadata": {
        "id": "view-in-github",
        "colab_type": "text"
      },
      "source": [
        "<a href=\"https://colab.research.google.com/github/PosgradoMNA/actividades-de-aprendizaje-A01793598/blob/main/Modulo_2_A01793598_Mauricio_Munoz.ipynb\" target=\"_parent\"><img src=\"https://colab.research.google.com/assets/colab-badge.svg\" alt=\"Open In Colab\"/></a>"
      ]
    },
    {
      "cell_type": "code",
      "execution_count": 1,
      "id": "688aed57",
      "metadata": {
        "colab": {
          "base_uri": "https://localhost:8080/"
        },
        "id": "688aed57",
        "outputId": "f999343d-73a4-4c69-9bed-6c22908651bc"
      },
      "outputs": [
        {
          "output_type": "stream",
          "name": "stdout",
          "text": [
            "(0, 1, 2, 3)\n"
          ]
        }
      ],
      "source": [
        "A = (0, 1, 2, 3)\n",
        "print(A)"
      ]
    },
    {
      "cell_type": "code",
      "execution_count": 2,
      "id": "ce43c43f",
      "metadata": {
        "colab": {
          "base_uri": "https://localhost:8080/"
        },
        "id": "ce43c43f",
        "outputId": "df56a246-5ed4-492b-f19e-198b36514d30"
      },
      "outputs": [
        {
          "output_type": "stream",
          "name": "stdout",
          "text": [
            "(0, 1)\n"
          ]
        }
      ],
      "source": [
        "print(A[0:2])"
      ]
    },
    {
      "cell_type": "code",
      "execution_count": 3,
      "id": "8dd9c367",
      "metadata": {
        "colab": {
          "base_uri": "https://localhost:8080/"
        },
        "id": "8dd9c367",
        "outputId": "d82817b7-98f6-415d-aed7-e1120be88d6b"
      },
      "outputs": [
        {
          "output_type": "execute_result",
          "data": {
            "text/plain": [
              "('disco', 10, 1.2)"
            ]
          },
          "metadata": {},
          "execution_count": 3
        }
      ],
      "source": [
        "tuple1 = (\"disco\",10,1.2 )\n",
        "tuple1"
      ]
    },
    {
      "cell_type": "code",
      "execution_count": 4,
      "id": "20adb6ff",
      "metadata": {
        "colab": {
          "base_uri": "https://localhost:8080/"
        },
        "id": "20adb6ff",
        "outputId": "4a85d03f-befb-45c3-e458-ad3b3aa6b8a9"
      },
      "outputs": [
        {
          "output_type": "execute_result",
          "data": {
            "text/plain": [
              "tuple"
            ]
          },
          "metadata": {},
          "execution_count": 4
        }
      ],
      "source": [
        "type(tuple1)"
      ]
    },
    {
      "cell_type": "code",
      "execution_count": 5,
      "id": "f5fb1802",
      "metadata": {
        "colab": {
          "base_uri": "https://localhost:8080/"
        },
        "id": "f5fb1802",
        "outputId": "e71cfbcc-8c0f-4610-c574-346af69bfaf6"
      },
      "outputs": [
        {
          "output_type": "stream",
          "name": "stdout",
          "text": [
            "disco\n",
            "10\n",
            "1.2\n"
          ]
        }
      ],
      "source": [
        "print(tuple1[0])\n",
        "print(tuple1[1])\n",
        "print(tuple1[2])"
      ]
    },
    {
      "cell_type": "code",
      "execution_count": 6,
      "id": "64cecd71",
      "metadata": {
        "colab": {
          "base_uri": "https://localhost:8080/"
        },
        "id": "64cecd71",
        "outputId": "edf3e1dc-3da0-4d6d-8dad-bfc2d6542b50"
      },
      "outputs": [
        {
          "output_type": "stream",
          "name": "stdout",
          "text": [
            "<class 'str'>\n",
            "<class 'int'>\n",
            "<class 'float'>\n"
          ]
        }
      ],
      "source": [
        "print(type(tuple1[0]))\n",
        "print(type(tuple1[1]))\n",
        "print(type(tuple1[2]))"
      ]
    },
    {
      "cell_type": "code",
      "execution_count": 7,
      "id": "60124aae",
      "metadata": {
        "colab": {
          "base_uri": "https://localhost:8080/"
        },
        "id": "60124aae",
        "outputId": "e6cdc8db-8622-4601-f298-7968328c0cb8"
      },
      "outputs": [
        {
          "output_type": "execute_result",
          "data": {
            "text/plain": [
              "1.2"
            ]
          },
          "metadata": {},
          "execution_count": 7
        }
      ],
      "source": [
        "tuple1[-1]"
      ]
    },
    {
      "cell_type": "code",
      "execution_count": 8,
      "id": "4a85cfb9",
      "metadata": {
        "colab": {
          "base_uri": "https://localhost:8080/"
        },
        "id": "4a85cfb9",
        "outputId": "06d906c3-0a0d-462e-8d0e-438912deabb6"
      },
      "outputs": [
        {
          "output_type": "execute_result",
          "data": {
            "text/plain": [
              "10"
            ]
          },
          "metadata": {},
          "execution_count": 8
        }
      ],
      "source": [
        "tuple1[-2]"
      ]
    },
    {
      "cell_type": "code",
      "execution_count": 9,
      "id": "6f361345",
      "metadata": {
        "colab": {
          "base_uri": "https://localhost:8080/",
          "height": 35
        },
        "id": "6f361345",
        "outputId": "d6f821b6-6233-4f2b-872e-6dc90e6e799e"
      },
      "outputs": [
        {
          "output_type": "execute_result",
          "data": {
            "text/plain": [
              "'disco'"
            ],
            "application/vnd.google.colaboratory.intrinsic+json": {
              "type": "string"
            }
          },
          "metadata": {},
          "execution_count": 9
        }
      ],
      "source": [
        "tuple1[-3]"
      ]
    },
    {
      "cell_type": "code",
      "execution_count": 10,
      "id": "ac78017b",
      "metadata": {
        "colab": {
          "base_uri": "https://localhost:8080/"
        },
        "id": "ac78017b",
        "outputId": "87448780-0b6f-40ac-8ac5-3f7b3ca71a97"
      },
      "outputs": [
        {
          "output_type": "execute_result",
          "data": {
            "text/plain": [
              "('disco', 10, 1.2, 'hard rock', 10)"
            ]
          },
          "metadata": {},
          "execution_count": 10
        }
      ],
      "source": [
        "tuple2 = tuple1 + (\"hard rock\", 10)\n",
        "tuple2"
      ]
    },
    {
      "cell_type": "code",
      "execution_count": 11,
      "id": "84fb72d0",
      "metadata": {
        "colab": {
          "base_uri": "https://localhost:8080/"
        },
        "id": "84fb72d0",
        "outputId": "59f45f84-d3b4-4011-803f-266fa41152f1"
      },
      "outputs": [
        {
          "output_type": "execute_result",
          "data": {
            "text/plain": [
              "(0, 9, 6, 5, 10, 8, 9, 6, 2)"
            ]
          },
          "metadata": {},
          "execution_count": 11
        }
      ],
      "source": [
        "Ratings = (0, 9, 6, 5, 10, 8, 9, 6, 2)\n",
        "Ratings"
      ]
    },
    {
      "cell_type": "code",
      "execution_count": 12,
      "id": "5f7ed97b",
      "metadata": {
        "colab": {
          "base_uri": "https://localhost:8080/"
        },
        "id": "5f7ed97b",
        "outputId": "16518a78-b59d-4804-a1d5-3e7b6f3d8e2b"
      },
      "outputs": [
        {
          "output_type": "execute_result",
          "data": {
            "text/plain": [
              "[0, 2, 5, 6, 6, 8, 9, 9, 10]"
            ]
          },
          "metadata": {},
          "execution_count": 12
        }
      ],
      "source": [
        "RatingsSorted = sorted(Ratings)\n",
        "RatingsSorted"
      ]
    },
    {
      "cell_type": "code",
      "execution_count": 13,
      "id": "00a5b88a",
      "metadata": {
        "colab": {
          "base_uri": "https://localhost:8080/"
        },
        "id": "00a5b88a",
        "outputId": "39dbabce-c8b9-47ca-c96c-6f0b89fb2464"
      },
      "outputs": [
        {
          "output_type": "execute_result",
          "data": {
            "text/plain": [
              "(1, 2, ('pop', 'rock'), (3, 4), ('disco', (1, 2)))"
            ]
          },
          "metadata": {},
          "execution_count": 13
        }
      ],
      "source": [
        "NestedT = (1, 2, (\"pop\", \"rock\") ,(3,4),(\"disco\",(1,2)))\n",
        "NestedT"
      ]
    },
    {
      "cell_type": "code",
      "execution_count": 14,
      "id": "511e2626",
      "metadata": {
        "colab": {
          "base_uri": "https://localhost:8080/"
        },
        "id": "511e2626",
        "outputId": "af4950b8-da9d-418e-861a-e1e536c04706"
      },
      "outputs": [
        {
          "output_type": "stream",
          "name": "stdout",
          "text": [
            "Element 0 of Tuple:  1\n",
            "Element 1 of Tuple:  2\n",
            "Element 2 of Tuple:  ('pop', 'rock')\n",
            "Element 3 of Tuple:  (3, 4)\n",
            "Element 4 of Tuple:  ('disco', (1, 2))\n"
          ]
        }
      ],
      "source": [
        "print(\"Element 0 of Tuple: \", NestedT[0])\n",
        "print(\"Element 1 of Tuple: \", NestedT[1])\n",
        "print(\"Element 2 of Tuple: \", NestedT[2])\n",
        "print(\"Element 3 of Tuple: \", NestedT[3])\n",
        "print(\"Element 4 of Tuple: \", NestedT[4])"
      ]
    },
    {
      "cell_type": "code",
      "execution_count": 15,
      "id": "a1b23e15",
      "metadata": {
        "colab": {
          "base_uri": "https://localhost:8080/"
        },
        "id": "a1b23e15",
        "outputId": "b296e3fc-1217-4f6d-b7e0-5c31c00eb7c6"
      },
      "outputs": [
        {
          "output_type": "execute_result",
          "data": {
            "text/plain": [
              "('pop',\n",
              " 'rock',\n",
              " 'soul',\n",
              " 'hard rock',\n",
              " 'soft rock',\n",
              " 'R&B',\n",
              " 'progressive rock',\n",
              " 'disco')"
            ]
          },
          "metadata": {},
          "execution_count": 15
        }
      ],
      "source": [
        "# EJERICIO 1\n",
        "# sample tuple\n",
        "\n",
        "genres_tuple = (\"pop\", \"rock\", \"soul\", \"hard rock\", \"soft rock\", \\\n",
        "                \"R&B\", \"progressive rock\", \"disco\") \n",
        "genres_tuple"
      ]
    },
    {
      "cell_type": "code",
      "execution_count": 16,
      "id": "76f7ada7",
      "metadata": {
        "colab": {
          "base_uri": "https://localhost:8080/"
        },
        "id": "76f7ada7",
        "outputId": "fe979102-a054-41ad-c6a8-e82b511f45c7"
      },
      "outputs": [
        {
          "output_type": "execute_result",
          "data": {
            "text/plain": [
              "8"
            ]
          },
          "metadata": {},
          "execution_count": 16
        }
      ],
      "source": [
        "# Find the length of the tuple, genres_tuple:\n",
        "len(genres_tuple)"
      ]
    },
    {
      "cell_type": "code",
      "execution_count": 17,
      "id": "3072777d",
      "metadata": {
        "colab": {
          "base_uri": "https://localhost:8080/",
          "height": 35
        },
        "id": "3072777d",
        "outputId": "b624b909-207f-4eb6-a145-02a8e5c981ef"
      },
      "outputs": [
        {
          "output_type": "execute_result",
          "data": {
            "text/plain": [
              "'hard rock'"
            ],
            "application/vnd.google.colaboratory.intrinsic+json": {
              "type": "string"
            }
          },
          "metadata": {},
          "execution_count": 17
        }
      ],
      "source": [
        "# Access the element, with respect to index 3:\n",
        "genres_tuple[3]"
      ]
    },
    {
      "cell_type": "code",
      "execution_count": 18,
      "id": "7f2cbbf0",
      "metadata": {
        "colab": {
          "base_uri": "https://localhost:8080/"
        },
        "id": "7f2cbbf0",
        "outputId": "f265df6d-a89a-43d4-e10c-94c569fc2a5a"
      },
      "outputs": [
        {
          "output_type": "execute_result",
          "data": {
            "text/plain": [
              "('hard rock', 'soft rock', 'R&B')"
            ]
          },
          "metadata": {},
          "execution_count": 18
        }
      ],
      "source": [
        "# Use slicing to obtain indexes 3, 4 and 5:\n",
        "genres_tuple[3:6]"
      ]
    },
    {
      "cell_type": "code",
      "execution_count": 19,
      "id": "11bb7e05",
      "metadata": {
        "colab": {
          "base_uri": "https://localhost:8080/"
        },
        "id": "11bb7e05",
        "outputId": "b59655b1-c4c9-42e3-d7f8-c1d24e8dee82"
      },
      "outputs": [
        {
          "output_type": "execute_result",
          "data": {
            "text/plain": [
              "('pop', 'rock')"
            ]
          },
          "metadata": {},
          "execution_count": 19
        }
      ],
      "source": [
        "# Find the first two elements of the tuple genres_tuple\n",
        "genres_tuple[:2]"
      ]
    },
    {
      "cell_type": "code",
      "execution_count": 20,
      "id": "fa1431cc",
      "metadata": {
        "colab": {
          "base_uri": "https://localhost:8080/"
        },
        "id": "fa1431cc",
        "outputId": "722ce316-a75b-45a6-dd27-7660bea8e118"
      },
      "outputs": [
        {
          "output_type": "execute_result",
          "data": {
            "text/plain": [
              "7"
            ]
          },
          "metadata": {},
          "execution_count": 20
        }
      ],
      "source": [
        "# Find the first index of \"disco\"\n",
        "genres_tuple.index('disco')"
      ]
    },
    {
      "cell_type": "code",
      "execution_count": 21,
      "id": "55340b47",
      "metadata": {
        "colab": {
          "base_uri": "https://localhost:8080/"
        },
        "id": "55340b47",
        "outputId": "525aaacf-031a-466a-ed19-c7bea3fce955"
      },
      "outputs": [
        {
          "output_type": "execute_result",
          "data": {
            "text/plain": [
              "[-5, -3, 1]"
            ]
          },
          "metadata": {},
          "execution_count": 21
        }
      ],
      "source": [
        "# Generate a sorted List from the Tuple C_tuple=(-5, 1, -3)\n",
        "C_tuple = (-5, 1, -3)\n",
        "C_list = sorted(C_tuple)\n",
        "C_list"
      ]
    },
    {
      "cell_type": "code",
      "execution_count": 22,
      "id": "4f2c6da0",
      "metadata": {
        "colab": {
          "base_uri": "https://localhost:8080/"
        },
        "id": "4f2c6da0",
        "outputId": "e7bc6c06-842e-413a-c10f-b40ea9ab98e4"
      },
      "outputs": [
        {
          "output_type": "stream",
          "name": "stdout",
          "text": [
            "A: ['hard rock', 10, 1.2]\n",
            "B: ['hard rock', 10, 1.2]\n"
          ]
        }
      ],
      "source": [
        "# Listas\n",
        "A = [\"hard rock\", 10, 1.2]\n",
        "B = A\n",
        "print('A:', A)\n",
        "print('B:', B)"
      ]
    },
    {
      "cell_type": "code",
      "execution_count": 23,
      "id": "38304189",
      "metadata": {
        "id": "38304189"
      },
      "outputs": [],
      "source": [
        "A[0] = 'Mau'"
      ]
    },
    {
      "cell_type": "code",
      "execution_count": 24,
      "id": "ebd7a30e",
      "metadata": {
        "colab": {
          "base_uri": "https://localhost:8080/"
        },
        "id": "ebd7a30e",
        "outputId": "301ad034-75a5-4d8e-9013-efcf41dba0f0"
      },
      "outputs": [
        {
          "output_type": "stream",
          "name": "stdout",
          "text": [
            "A: ['Mau', 10, 1.2]\n",
            "B: ['Mau', 10, 1.2]\n"
          ]
        }
      ],
      "source": [
        "print('A:', A)\n",
        "print('B:', B)"
      ]
    },
    {
      "cell_type": "code",
      "execution_count": 25,
      "id": "d08e494e",
      "metadata": {
        "colab": {
          "base_uri": "https://localhost:8080/"
        },
        "id": "d08e494e",
        "outputId": "84c21442-4234-4e45-9e38-19dca513439f"
      },
      "outputs": [
        {
          "output_type": "execute_result",
          "data": {
            "text/plain": [
              "['Mau', 10, 1.2]"
            ]
          },
          "metadata": {},
          "execution_count": 25
        }
      ],
      "source": [
        "B = A[:]\n",
        "B"
      ]
    },
    {
      "cell_type": "code",
      "execution_count": 26,
      "id": "40acfe0e",
      "metadata": {
        "colab": {
          "base_uri": "https://localhost:8080/"
        },
        "id": "40acfe0e",
        "outputId": "f444ab18-ab68-4c6d-a654-0ee84526fc7c"
      },
      "outputs": [
        {
          "output_type": "execute_result",
          "data": {
            "text/plain": [
              "[1, 'hello', [1, 2, 3], True]"
            ]
          },
          "metadata": {},
          "execution_count": 26
        }
      ],
      "source": [
        "# EJERCICIO 2\n",
        "# Create a list a_list, with the following elements 1, hello, [1,2,3] and True\n",
        "lista = [1, 'hello', [1,2,3], True]\n",
        "lista"
      ]
    },
    {
      "cell_type": "code",
      "execution_count": 27,
      "id": "ba860b32",
      "metadata": {
        "colab": {
          "base_uri": "https://localhost:8080/",
          "height": 35
        },
        "id": "ba860b32",
        "outputId": "0cab0aaf-b2cd-43e5-c0e0-06848836662b"
      },
      "outputs": [
        {
          "output_type": "execute_result",
          "data": {
            "text/plain": [
              "'hello'"
            ],
            "application/vnd.google.colaboratory.intrinsic+json": {
              "type": "string"
            }
          },
          "metadata": {},
          "execution_count": 27
        }
      ],
      "source": [
        "# Find the value stored at index 1 of a_list\n",
        "lista[1]"
      ]
    },
    {
      "cell_type": "code",
      "execution_count": 28,
      "id": "abcaf01d",
      "metadata": {
        "colab": {
          "base_uri": "https://localhost:8080/"
        },
        "id": "abcaf01d",
        "outputId": "3e3a0ed2-3310-4933-fc94-5afdd356901a"
      },
      "outputs": [
        {
          "output_type": "execute_result",
          "data": {
            "text/plain": [
              "['hello', [1, 2, 3], True]"
            ]
          },
          "metadata": {},
          "execution_count": 28
        }
      ],
      "source": [
        "# Retrieve the elements stored at index 1, 2 and 3 of a_list\n",
        "lista[1:4]"
      ]
    },
    {
      "cell_type": "code",
      "execution_count": 29,
      "id": "d9cda4b0",
      "metadata": {
        "colab": {
          "base_uri": "https://localhost:8080/"
        },
        "id": "d9cda4b0",
        "outputId": "ded998b9-9c00-4f56-b31e-3a1fc9c3abf8"
      },
      "outputs": [
        {
          "output_type": "execute_result",
          "data": {
            "text/plain": [
              "[1, 'a', 2, 1, 'd']"
            ]
          },
          "metadata": {},
          "execution_count": 29
        }
      ],
      "source": [
        "# Concatenate the following lists A = [1, 'a'] and B = [2, 1, 'd']:\n",
        "A = [1, 'a'] \n",
        "B = [2, 1, 'd']\n",
        "A + B"
      ]
    },
    {
      "cell_type": "code",
      "execution_count": 30,
      "id": "36001b92",
      "metadata": {
        "colab": {
          "base_uri": "https://localhost:8080/"
        },
        "id": "36001b92",
        "outputId": "bd6cf903-3acb-4e59-fe45-ace4a0c31f06"
      },
      "outputs": [
        {
          "output_type": "execute_result",
          "data": {
            "text/plain": [
              "{'electronic music', 'house', 'rap'}"
            ]
          },
          "metadata": {},
          "execution_count": 30
        }
      ],
      "source": [
        "# EJERICIO 3\n",
        "# Convert the list ['rap','house','electronic music', 'rap'] to a set:\n",
        "set(['rap','house','electronic music','rap'])"
      ]
    },
    {
      "cell_type": "code",
      "execution_count": 31,
      "id": "24b131cc",
      "metadata": {
        "colab": {
          "base_uri": "https://localhost:8080/"
        },
        "id": "24b131cc",
        "outputId": "aa4cffb0-d8e1-461d-a846-3e5dea377807"
      },
      "outputs": [
        {
          "output_type": "stream",
          "name": "stdout",
          "text": [
            "6\n",
            "3\n",
            "False\n"
          ]
        }
      ],
      "source": [
        "# Consider the list A = [1, 2, 2, 1] and set B = set([1, 2, 2, 1]), does sum(A) == sum(B)?\n",
        "A = [1, 2, 2, 1]  \n",
        "B = set([1, 2, 2, 1])\n",
        "print(sum(A))\n",
        "print(sum(B))\n",
        "print(sum(A) == sum(B))"
      ]
    },
    {
      "cell_type": "code",
      "execution_count": 32,
      "id": "50215076",
      "metadata": {
        "colab": {
          "base_uri": "https://localhost:8080/"
        },
        "id": "50215076",
        "outputId": "d82d45ea-1a18-4540-e7af-7d336c39a7c6"
      },
      "outputs": [
        {
          "output_type": "stream",
          "name": "stdout",
          "text": [
            "{'The Dark Side of the Moon', 'Back in Black', 'AC/DC', 'Thriller'}\n"
          ]
        }
      ],
      "source": [
        "# Create a new set album_set3 that is the union of album_set1 and album_set2:\n",
        "album_set1 = set([\"Thriller\", 'AC/DC', 'Back in Black'])\n",
        "album_set2 = set([ \"AC/DC\", \"Back in Black\", \"The Dark Side of the Moon\"])\n",
        "\n",
        "album_set3 = album_set1.union(album_set2)\n",
        "print(album_set3)"
      ]
    },
    {
      "cell_type": "code",
      "execution_count": 33,
      "id": "879a4d00",
      "metadata": {
        "colab": {
          "base_uri": "https://localhost:8080/"
        },
        "id": "879a4d00",
        "outputId": "73cef672-0970-44a6-bc90-78373e7dea1f"
      },
      "outputs": [
        {
          "output_type": "execute_result",
          "data": {
            "text/plain": [
              "True"
            ]
          },
          "metadata": {},
          "execution_count": 33
        }
      ],
      "source": [
        "# Find out if album_set1 is a subset of album_set3:\n",
        "album_set1.issubset(album_set3)"
      ]
    },
    {
      "cell_type": "code",
      "execution_count": 34,
      "id": "aa18fbc7",
      "metadata": {
        "colab": {
          "base_uri": "https://localhost:8080/"
        },
        "id": "aa18fbc7",
        "outputId": "c3103572-11c5-4a0e-cb4c-aa1d355900fb"
      },
      "outputs": [
        {
          "output_type": "execute_result",
          "data": {
            "text/plain": [
              "{'The Bodyguard': '1992', 'Saturday Night Fever': '1977'}"
            ]
          },
          "metadata": {},
          "execution_count": 34
        }
      ],
      "source": [
        "# EJERICIO 4\n",
        "soundtrack_dic = {\"The Bodyguard\":\"1992\", \"Saturday Night Fever\":\"1977\"}\n",
        "soundtrack_dic"
      ]
    },
    {
      "cell_type": "code",
      "execution_count": 35,
      "id": "da3d2daa",
      "metadata": {
        "colab": {
          "base_uri": "https://localhost:8080/"
        },
        "id": "da3d2daa",
        "outputId": "385e9ab5-345e-40f3-890a-af486c1c128d"
      },
      "outputs": [
        {
          "output_type": "execute_result",
          "data": {
            "text/plain": [
              "dict_keys(['The Bodyguard', 'Saturday Night Fever'])"
            ]
          },
          "metadata": {},
          "execution_count": 35
        }
      ],
      "source": [
        "# a) In the dictionary soundtrack_dic what are the keys ?\n",
        "soundtrack_dic.keys()"
      ]
    },
    {
      "cell_type": "code",
      "execution_count": 36,
      "id": "eca1d97e",
      "metadata": {
        "colab": {
          "base_uri": "https://localhost:8080/"
        },
        "id": "eca1d97e",
        "outputId": "01ca9bbb-f41d-46d9-99aa-a4a541b6e184"
      },
      "outputs": [
        {
          "output_type": "execute_result",
          "data": {
            "text/plain": [
              "dict_values(['1992', '1977'])"
            ]
          },
          "metadata": {},
          "execution_count": 36
        }
      ],
      "source": [
        "# b) In the dictionary soundtrack_dic what are the values ?\n",
        "soundtrack_dic.values()"
      ]
    },
    {
      "cell_type": "code",
      "execution_count": 37,
      "id": "e7daf807",
      "metadata": {
        "colab": {
          "base_uri": "https://localhost:8080/"
        },
        "id": "e7daf807",
        "outputId": "6d9354a1-ba7f-498b-cc88-3696806e53d3"
      },
      "outputs": [
        {
          "output_type": "execute_result",
          "data": {
            "text/plain": [
              "{'The Bodyguard': 50, 'Back in Black': 50, 'Thriller': 65}"
            ]
          },
          "metadata": {},
          "execution_count": 37
        }
      ],
      "source": [
        "# a) Create a dictionary album_sales_dict where the keys are the album name and the sales in millions are the values.\n",
        "album_sales_dict = {\"The Bodyguard\":50, \"Back in Black\":50, \"Thriller\":65}\n",
        "album_sales_dict"
      ]
    },
    {
      "cell_type": "code",
      "execution_count": 38,
      "id": "a2927572",
      "metadata": {
        "colab": {
          "base_uri": "https://localhost:8080/"
        },
        "id": "a2927572",
        "outputId": "dac52951-8a07-4d5b-9121-46b7c48a78b1"
      },
      "outputs": [
        {
          "output_type": "execute_result",
          "data": {
            "text/plain": [
              "65"
            ]
          },
          "metadata": {},
          "execution_count": 38
        }
      ],
      "source": [
        "# b) Use the dictionary to find the total sales of Thriller:\n",
        "album_sales_dict['Thriller']"
      ]
    },
    {
      "cell_type": "code",
      "execution_count": 39,
      "id": "b8cd2284",
      "metadata": {
        "colab": {
          "base_uri": "https://localhost:8080/"
        },
        "id": "b8cd2284",
        "outputId": "b7dde8f7-53c0-40e9-bfb6-641423e509aa"
      },
      "outputs": [
        {
          "output_type": "execute_result",
          "data": {
            "text/plain": [
              "dict_keys(['The Bodyguard', 'Back in Black', 'Thriller'])"
            ]
          },
          "metadata": {},
          "execution_count": 39
        }
      ],
      "source": [
        "# c) Find the names of the albums from the dictionary using the method keys():\n",
        "album_sales_dict.keys()"
      ]
    },
    {
      "cell_type": "code",
      "execution_count": 40,
      "id": "6bd2b2f3",
      "metadata": {
        "colab": {
          "base_uri": "https://localhost:8080/"
        },
        "id": "6bd2b2f3",
        "outputId": "2aa2057c-d37b-4f6f-a916-67cd57293357"
      },
      "outputs": [
        {
          "output_type": "execute_result",
          "data": {
            "text/plain": [
              "dict_values([50, 50, 65])"
            ]
          },
          "metadata": {},
          "execution_count": 40
        }
      ],
      "source": [
        "# d) Find the values of the recording sales from the dictionary using the method values:\n",
        "album_sales_dict.values()"
      ]
    }
  ],
  "metadata": {
    "kernelspec": {
      "display_name": "Python 3 (ipykernel)",
      "language": "python",
      "name": "python3"
    },
    "language_info": {
      "codemirror_mode": {
        "name": "ipython",
        "version": 3
      },
      "file_extension": ".py",
      "mimetype": "text/x-python",
      "name": "python",
      "nbconvert_exporter": "python",
      "pygments_lexer": "ipython3",
      "version": "3.9.12"
    },
    "colab": {
      "provenance": [],
      "include_colab_link": true
    }
  },
  "nbformat": 4,
  "nbformat_minor": 5
}