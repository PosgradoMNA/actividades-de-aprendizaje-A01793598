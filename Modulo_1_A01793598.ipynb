{
  "cells": [
    {
      "cell_type": "markdown",
      "metadata": {
        "id": "view-in-github",
        "colab_type": "text"
      },
      "source": [
        "<a href=\"https://colab.research.google.com/github/PosgradoMNA/actividades-de-aprendizaje-A01793598/blob/main/Modulo_1_A01793598.ipynb\" target=\"_parent\"><img src=\"https://colab.research.google.com/assets/colab-badge.svg\" alt=\"Open In Colab\"/></a>"
      ]
    },
    {
      "cell_type": "code",
      "execution_count": 1,
      "id": "824174b7",
      "metadata": {
        "colab": {
          "base_uri": "https://localhost:8080/"
        },
        "id": "824174b7",
        "outputId": "9901baea-115f-4b89-d628-1748144ab0c8"
      },
      "outputs": [
        {
          "output_type": "stream",
          "name": "stdout",
          "text": [
            "Hello, Python!\n"
          ]
        }
      ],
      "source": [
        "# Modulo 1: Practica\n",
        "\n",
        "# Try your first Python output\n",
        "\n",
        "print('Hello, Python!')"
      ]
    },
    {
      "cell_type": "code",
      "execution_count": 2,
      "id": "0802a0c5",
      "metadata": {
        "colab": {
          "base_uri": "https://localhost:8080/"
        },
        "id": "0802a0c5",
        "outputId": "ce3081e5-28e3-4f57-d841-a409b79f0426"
      },
      "outputs": [
        {
          "output_type": "stream",
          "name": "stdout",
          "text": [
            "3.7.14 (default, Sep  8 2022, 00:06:44) \n",
            "[GCC 7.5.0]\n"
          ]
        }
      ],
      "source": [
        "# Check the Python Version\n",
        "\n",
        "import sys\n",
        "print(sys.version)"
      ]
    },
    {
      "cell_type": "code",
      "execution_count": 3,
      "id": "dfba258c",
      "metadata": {
        "id": "dfba258c"
      },
      "outputs": [],
      "source": [
        "# Estos es una prueba de las lineas comentas en Python"
      ]
    },
    {
      "cell_type": "code",
      "execution_count": 4,
      "id": "816edba3",
      "metadata": {
        "colab": {
          "base_uri": "https://localhost:8080/"
        },
        "id": "816edba3",
        "outputId": "9508d5ba-a38d-4cec-e0df-ea429b74610a"
      },
      "outputs": [
        {
          "output_type": "stream",
          "name": "stdout",
          "text": [
            "Hello, Python!\n"
          ]
        }
      ],
      "source": [
        "# Print string as error message\n",
        "\n",
        "# El objetivo de esta linea de codigo era verificar que si no reconoce un comando python nos arroja error\n",
        "# frint(\"Hello, Python!\") \n",
        "\n",
        "# Linea de código corregida\n",
        "print(\"Hello, Python!\") "
      ]
    },
    {
      "cell_type": "code",
      "execution_count": 5,
      "id": "e6e8b4f3",
      "metadata": {
        "colab": {
          "base_uri": "https://localhost:8080/"
        },
        "id": "e6e8b4f3",
        "outputId": "35c376af-da66-4404-a080-c3e478eb76d5"
      },
      "outputs": [
        {
          "output_type": "stream",
          "name": "stdout",
          "text": [
            "Hello, Python!\n"
          ]
        }
      ],
      "source": [
        "# Try to see built-in error message\n",
        "\n",
        "# El objetivo de esta linea de codigo era verificar que si no se cierra comillas python nos arroja error\n",
        "# print(\"Hello, Python!)\n",
        "      \n",
        "# Linea de código corregida\n",
        "print(\"Hello, Python!\") "
      ]
    },
    {
      "cell_type": "code",
      "execution_count": 6,
      "id": "c3d34ff4",
      "metadata": {
        "colab": {
          "base_uri": "https://localhost:8080/"
        },
        "id": "c3d34ff4",
        "outputId": "a5cfabf3-c20c-44d2-fcf6-184da5f9b1d7"
      },
      "outputs": [
        {
          "output_type": "stream",
          "name": "stdout",
          "text": [
            "This will be printed\n",
            "This will NOT be printed\n"
          ]
        }
      ],
      "source": [
        "print(\"This will be printed\")\n",
        "# frint(\"This will cause an error\") Imprime unicame el error\n",
        "print(\"This will NOT be printed\")"
      ]
    },
    {
      "cell_type": "code",
      "execution_count": 7,
      "id": "6d400a3d",
      "metadata": {
        "colab": {
          "base_uri": "https://localhost:8080/"
        },
        "id": "6d400a3d",
        "outputId": "7ed977db-f6c9-42a3-ae57-b30f0c87d6bd"
      },
      "outputs": [
        {
          "output_type": "stream",
          "name": "stdout",
          "text": [
            "Hola Mundo!\n",
            "Hola Mundo!\n"
          ]
        }
      ],
      "source": [
        "# EJERCICIO 1\n",
        "\n",
        "# Write your code below. Don't forget to press Shift+Enter to execute the cell\n",
        "print('Hola Mundo!')\n",
        "\n",
        "# Write your code below. Don't forget to press Shift+Enter to execute the cell\n",
        "\n",
        "print('Hola Mundo!') # Print the traditional hello world"
      ]
    },
    {
      "cell_type": "code",
      "execution_count": 8,
      "id": "d832c342",
      "metadata": {
        "colab": {
          "base_uri": "https://localhost:8080/"
        },
        "id": "d832c342",
        "outputId": "21b78530-5604-4ce5-9b0d-14994092d189"
      },
      "outputs": [
        {
          "output_type": "execute_result",
          "data": {
            "text/plain": [
              "11"
            ]
          },
          "metadata": {},
          "execution_count": 8
        }
      ],
      "source": [
        "# Integer\n",
        "\n",
        "11"
      ]
    },
    {
      "cell_type": "code",
      "execution_count": 9,
      "id": "ccf60a82",
      "metadata": {
        "colab": {
          "base_uri": "https://localhost:8080/"
        },
        "id": "ccf60a82",
        "outputId": "849aaaf4-18c5-4b43-bec1-2ef4a790f912"
      },
      "outputs": [
        {
          "output_type": "execute_result",
          "data": {
            "text/plain": [
              "2.14"
            ]
          },
          "metadata": {},
          "execution_count": 9
        }
      ],
      "source": [
        "# Float\n",
        "\n",
        "2.14"
      ]
    },
    {
      "cell_type": "code",
      "execution_count": 10,
      "id": "71372274",
      "metadata": {
        "colab": {
          "base_uri": "https://localhost:8080/",
          "height": 35
        },
        "id": "71372274",
        "outputId": "20296eea-2157-420f-b098-9272c4ed135d"
      },
      "outputs": [
        {
          "output_type": "execute_result",
          "data": {
            "text/plain": [
              "'Hello, Python 101!'"
            ],
            "application/vnd.google.colaboratory.intrinsic+json": {
              "type": "string"
            }
          },
          "metadata": {},
          "execution_count": 10
        }
      ],
      "source": [
        "# String\n",
        "\n",
        "\"Hello, Python 101!\""
      ]
    },
    {
      "cell_type": "code",
      "execution_count": 11,
      "id": "2163f33c",
      "metadata": {
        "colab": {
          "base_uri": "https://localhost:8080/"
        },
        "id": "2163f33c",
        "outputId": "556fc6f6-0c0e-451b-e6aa-f48ae0e66194"
      },
      "outputs": [
        {
          "output_type": "execute_result",
          "data": {
            "text/plain": [
              "int"
            ]
          },
          "metadata": {},
          "execution_count": 11
        }
      ],
      "source": [
        "# Type of 12\n",
        "\n",
        "type(12)"
      ]
    },
    {
      "cell_type": "code",
      "execution_count": 12,
      "id": "0cc6118d",
      "metadata": {
        "colab": {
          "base_uri": "https://localhost:8080/"
        },
        "id": "0cc6118d",
        "outputId": "08fe476c-4c74-4e72-99a3-b43ad3a2e2f3"
      },
      "outputs": [
        {
          "output_type": "execute_result",
          "data": {
            "text/plain": [
              "float"
            ]
          },
          "metadata": {},
          "execution_count": 12
        }
      ],
      "source": [
        "# Type of 2.14\n",
        "\n",
        "type(2.14)"
      ]
    },
    {
      "cell_type": "code",
      "execution_count": 13,
      "id": "a9bfdf9f",
      "metadata": {
        "colab": {
          "base_uri": "https://localhost:8080/"
        },
        "id": "a9bfdf9f",
        "outputId": "aedeb7b0-6e43-42ef-bf95-f76dd4df7037"
      },
      "outputs": [
        {
          "output_type": "execute_result",
          "data": {
            "text/plain": [
              "str"
            ]
          },
          "metadata": {},
          "execution_count": 13
        }
      ],
      "source": [
        "# Type of \"Hello, Python 101!\"\n",
        "\n",
        "type(\"Hello, Python 101!\")"
      ]
    },
    {
      "cell_type": "code",
      "execution_count": 14,
      "id": "b998d990",
      "metadata": {
        "colab": {
          "base_uri": "https://localhost:8080/"
        },
        "id": "b998d990",
        "outputId": "b25640ac-8b0f-45bb-92af-25c820d0f721"
      },
      "outputs": [
        {
          "output_type": "execute_result",
          "data": {
            "text/plain": [
              "float"
            ]
          },
          "metadata": {},
          "execution_count": 14
        }
      ],
      "source": [
        "# EJERCICIO 2\n",
        "\n",
        "# Write your code below. Don't forget to press Shift+Enter to execute the cell\n",
        "type(12.0)"
      ]
    },
    {
      "cell_type": "code",
      "execution_count": 15,
      "id": "4b5f32db",
      "metadata": {
        "colab": {
          "base_uri": "https://localhost:8080/"
        },
        "id": "4b5f32db",
        "outputId": "f60c02c1-922c-471d-824c-c46850c78cce"
      },
      "outputs": [
        {
          "output_type": "execute_result",
          "data": {
            "text/plain": [
              "int"
            ]
          },
          "metadata": {},
          "execution_count": 15
        }
      ],
      "source": [
        "# Print the type of -1\n",
        "\n",
        "type(-1)"
      ]
    },
    {
      "cell_type": "code",
      "execution_count": 16,
      "id": "a32e5320",
      "metadata": {
        "colab": {
          "base_uri": "https://localhost:8080/"
        },
        "id": "a32e5320",
        "outputId": "2fd026ee-ce86-4d2b-e765-b9d3ea3271e8"
      },
      "outputs": [
        {
          "output_type": "execute_result",
          "data": {
            "text/plain": [
              "sys.float_info(max=1.7976931348623157e+308, max_exp=1024, max_10_exp=308, min=2.2250738585072014e-308, min_exp=-1021, min_10_exp=-307, dig=15, mant_dig=53, epsilon=2.220446049250313e-16, radix=2, rounds=1)"
            ]
          },
          "metadata": {},
          "execution_count": 16
        }
      ],
      "source": [
        "import sys\n",
        "sys.float_info"
      ]
    },
    {
      "cell_type": "code",
      "execution_count": 17,
      "id": "2dcbecdd",
      "metadata": {
        "colab": {
          "base_uri": "https://localhost:8080/"
        },
        "id": "2dcbecdd",
        "outputId": "763454fb-a7cb-4df3-ed8c-cc995846a1ec"
      },
      "outputs": [
        {
          "output_type": "execute_result",
          "data": {
            "text/plain": [
              "float"
            ]
          },
          "metadata": {},
          "execution_count": 17
        }
      ],
      "source": [
        "# Print the type of 1.0\n",
        "\n",
        "type(1.0) # Notice that 1 is an int, and 1.0 is a float"
      ]
    },
    {
      "cell_type": "code",
      "execution_count": 18,
      "id": "ff006979",
      "metadata": {
        "colab": {
          "base_uri": "https://localhost:8080/"
        },
        "id": "ff006979",
        "outputId": "b8b7a047-8b4e-4e69-c1fb-a2bc2cb59bed"
      },
      "outputs": [
        {
          "output_type": "execute_result",
          "data": {
            "text/plain": [
              "2.0"
            ]
          },
          "metadata": {},
          "execution_count": 18
        }
      ],
      "source": [
        "float(2)"
      ]
    },
    {
      "cell_type": "code",
      "execution_count": 19,
      "id": "ba42ff01",
      "metadata": {
        "colab": {
          "base_uri": "https://localhost:8080/"
        },
        "id": "ba42ff01",
        "outputId": "3b02ccf8-ca6d-4021-ff2f-3b276cf79c18"
      },
      "outputs": [
        {
          "output_type": "execute_result",
          "data": {
            "text/plain": [
              "float"
            ]
          },
          "metadata": {},
          "execution_count": 19
        }
      ],
      "source": [
        "# Convert integer 2 to a float and check its type\n",
        "\n",
        "type(float(2))"
      ]
    },
    {
      "cell_type": "code",
      "execution_count": 20,
      "id": "e6537ab1",
      "metadata": {
        "colab": {
          "base_uri": "https://localhost:8080/"
        },
        "id": "e6537ab1",
        "outputId": "56cd7371-a61f-4d94-d8fa-a82666a098c0"
      },
      "outputs": [
        {
          "output_type": "execute_result",
          "data": {
            "text/plain": [
              "1"
            ]
          },
          "metadata": {},
          "execution_count": 20
        }
      ],
      "source": [
        "# Casting 1.1 to integer will result in loss of information\n",
        "\n",
        "int(1.8)"
      ]
    },
    {
      "cell_type": "code",
      "execution_count": 21,
      "id": "7bc2ddca",
      "metadata": {
        "colab": {
          "base_uri": "https://localhost:8080/"
        },
        "id": "7bc2ddca",
        "outputId": "811f6ee8-7a9c-4d83-aeb6-2a19e01a246f"
      },
      "outputs": [
        {
          "output_type": "execute_result",
          "data": {
            "text/plain": [
              "1.8"
            ]
          },
          "metadata": {},
          "execution_count": 21
        }
      ],
      "source": [
        "round(1.8, 1)"
      ]
    },
    {
      "cell_type": "code",
      "execution_count": 22,
      "id": "1be186d1",
      "metadata": {
        "colab": {
          "base_uri": "https://localhost:8080/"
        },
        "id": "1be186d1",
        "outputId": "3dc6c6e6-2505-4c8a-b0d9-681284b3f6ce"
      },
      "outputs": [
        {
          "output_type": "execute_result",
          "data": {
            "text/plain": [
              "1"
            ]
          },
          "metadata": {},
          "execution_count": 22
        }
      ],
      "source": [
        "# Convert a string into an integer\n",
        "\n",
        "int('1')"
      ]
    },
    {
      "cell_type": "code",
      "execution_count": 23,
      "id": "e8191d5b",
      "metadata": {
        "colab": {
          "base_uri": "https://localhost:8080/"
        },
        "id": "e8191d5b",
        "outputId": "83a43094-1821-4de1-9f5e-5247a8faf40d"
      },
      "outputs": [
        {
          "output_type": "stream",
          "name": "stdout",
          "text": [
            "1\n",
            "2\n"
          ]
        }
      ],
      "source": [
        "# Convert a string into an integer with error\n",
        "\n",
        "# El objetivo de esta linea de codigo era verificar no se puede transformar un string en numero python nos arroja error\n",
        "# int('1 or 2 people')\n",
        "\n",
        "# Linea de código corregida\n",
        "print(int('1'))\n",
        "print(int('2'))"
      ]
    },
    {
      "cell_type": "code",
      "execution_count": 24,
      "id": "0b2d34e7",
      "metadata": {
        "colab": {
          "base_uri": "https://localhost:8080/"
        },
        "id": "0b2d34e7",
        "outputId": "1c214cfb-cd6e-4881-f16c-ffb8e97c9f88"
      },
      "outputs": [
        {
          "output_type": "execute_result",
          "data": {
            "text/plain": [
              "1.2"
            ]
          },
          "metadata": {},
          "execution_count": 24
        }
      ],
      "source": [
        "# El objetivo de esta linea de codigo era verificar no se convitar los tipo de comillas, python nos arroja error\n",
        "# float('1.2\")\n",
        "      \n",
        "# Linea de código corregida\n",
        "float('1.2')"
      ]
    },
    {
      "cell_type": "code",
      "execution_count": 25,
      "id": "85e0a0d7",
      "metadata": {
        "colab": {
          "base_uri": "https://localhost:8080/"
        },
        "id": "85e0a0d7",
        "outputId": "734be0bd-6cd6-46e4-935c-9adb416d4e1c"
      },
      "outputs": [
        {
          "output_type": "execute_result",
          "data": {
            "text/plain": [
              "True"
            ]
          },
          "metadata": {},
          "execution_count": 25
        }
      ],
      "source": [
        "# Convert 1 to boolean\n",
        "\n",
        "bool(1)"
      ]
    },
    {
      "cell_type": "code",
      "execution_count": 26,
      "id": "4475f269",
      "metadata": {
        "colab": {
          "base_uri": "https://localhost:8080/"
        },
        "id": "4475f269",
        "outputId": "a9c8b5bf-87eb-4dfb-8e4f-4508f3430865"
      },
      "outputs": [
        {
          "output_type": "execute_result",
          "data": {
            "text/plain": [
              "False"
            ]
          },
          "metadata": {},
          "execution_count": 26
        }
      ],
      "source": [
        "# Convert 0 to boolean\n",
        "\n",
        "bool(0)"
      ]
    },
    {
      "cell_type": "code",
      "execution_count": 27,
      "id": "8865d3d2",
      "metadata": {
        "colab": {
          "base_uri": "https://localhost:8080/"
        },
        "id": "8865d3d2",
        "outputId": "ee549915-4ef6-4e6f-ca01-8b16b454a48c"
      },
      "outputs": [
        {
          "output_type": "stream",
          "name": "stdout",
          "text": [
            "3.0\n"
          ]
        },
        {
          "output_type": "execute_result",
          "data": {
            "text/plain": [
              "float"
            ]
          },
          "metadata": {},
          "execution_count": 27
        }
      ],
      "source": [
        "# EJERCICIO 3\n",
        "# What is the data type of the result of: 6 / 2?\n",
        "print(6 / 2)\n",
        "type(6 / 2) # Float"
      ]
    },
    {
      "cell_type": "code",
      "execution_count": 28,
      "id": "b05b304c",
      "metadata": {
        "colab": {
          "base_uri": "https://localhost:8080/"
        },
        "id": "b05b304c",
        "outputId": "b14e6fe9-d46f-4c9d-e12b-0146da48d4d1"
      },
      "outputs": [
        {
          "output_type": "stream",
          "name": "stdout",
          "text": [
            "3\n"
          ]
        },
        {
          "output_type": "execute_result",
          "data": {
            "text/plain": [
              "int"
            ]
          },
          "metadata": {},
          "execution_count": 28
        }
      ],
      "source": [
        "# What is the type of the result of: 6 // 2?\n",
        "print(6 // 2)\n",
        "type(6 // 2) # Entero porque el modelo de 6 entre 2  es 3."
      ]
    },
    {
      "cell_type": "code",
      "execution_count": 29,
      "id": "be8f182f",
      "metadata": {
        "colab": {
          "base_uri": "https://localhost:8080/"
        },
        "id": "be8f182f",
        "outputId": "dfd1c753-a392-486c-f971-6a325f9eba77"
      },
      "outputs": [
        {
          "output_type": "execute_result",
          "data": {
            "text/plain": [
              "160"
            ]
          },
          "metadata": {},
          "execution_count": 29
        }
      ],
      "source": [
        "# Addition operation expression\n",
        "\n",
        "43 + 60 + 16 + 41"
      ]
    },
    {
      "cell_type": "code",
      "execution_count": 30,
      "id": "d182915b",
      "metadata": {
        "colab": {
          "base_uri": "https://localhost:8080/"
        },
        "id": "d182915b",
        "outputId": "69ccaa60-d900-4032-d35b-4cc3ca03e214"
      },
      "outputs": [
        {
          "output_type": "execute_result",
          "data": {
            "text/plain": [
              "-10"
            ]
          },
          "metadata": {},
          "execution_count": 30
        }
      ],
      "source": [
        "# Subtraction operation expression\n",
        "\n",
        "50 - 60"
      ]
    },
    {
      "cell_type": "code",
      "execution_count": 31,
      "id": "e4e06080",
      "metadata": {
        "colab": {
          "base_uri": "https://localhost:8080/"
        },
        "id": "e4e06080",
        "outputId": "0c30543f-b0b3-4a1a-9ad5-670474776708"
      },
      "outputs": [
        {
          "output_type": "execute_result",
          "data": {
            "text/plain": [
              "25"
            ]
          },
          "metadata": {},
          "execution_count": 31
        }
      ],
      "source": [
        "# Multiplication operation expression\n",
        "\n",
        "5 * 5"
      ]
    },
    {
      "cell_type": "code",
      "execution_count": 32,
      "id": "cab84b24",
      "metadata": {
        "colab": {
          "base_uri": "https://localhost:8080/"
        },
        "id": "cab84b24",
        "outputId": "cea01fcf-a088-4ea8-d23d-8f97bbb89b1c"
      },
      "outputs": [
        {
          "output_type": "execute_result",
          "data": {
            "text/plain": [
              "5.0"
            ]
          },
          "metadata": {},
          "execution_count": 32
        }
      ],
      "source": [
        "# Division operation expression\n",
        "\n",
        "25 / 5"
      ]
    },
    {
      "cell_type": "code",
      "execution_count": 33,
      "id": "993bc560",
      "metadata": {
        "colab": {
          "base_uri": "https://localhost:8080/"
        },
        "id": "993bc560",
        "outputId": "b82bf136-1c14-4f2b-ef88-c50414b42f5a"
      },
      "outputs": [
        {
          "output_type": "execute_result",
          "data": {
            "text/plain": [
              "4.166666666666667"
            ]
          },
          "metadata": {},
          "execution_count": 33
        }
      ],
      "source": [
        "# Division operation expression\n",
        "\n",
        "25 / 6"
      ]
    },
    {
      "cell_type": "code",
      "execution_count": 34,
      "id": "5e85279b",
      "metadata": {
        "colab": {
          "base_uri": "https://localhost:8080/"
        },
        "id": "5e85279b",
        "outputId": "ba17a09f-0e0e-462d-ec58-ac3fe879f928"
      },
      "outputs": [
        {
          "output_type": "execute_result",
          "data": {
            "text/plain": [
              "5"
            ]
          },
          "metadata": {},
          "execution_count": 34
        }
      ],
      "source": [
        "# Integer division operation expression\n",
        "\n",
        "25 // 5"
      ]
    },
    {
      "cell_type": "code",
      "execution_count": 35,
      "id": "38221aaa",
      "metadata": {
        "colab": {
          "base_uri": "https://localhost:8080/"
        },
        "id": "38221aaa",
        "outputId": "773a9c9a-2f47-4b38-8a60-33c5bbc2f0b8"
      },
      "outputs": [
        {
          "output_type": "execute_result",
          "data": {
            "text/plain": [
              "4"
            ]
          },
          "metadata": {},
          "execution_count": 35
        }
      ],
      "source": [
        "# Integer division operation expression\n",
        "\n",
        "25 // 6"
      ]
    },
    {
      "cell_type": "code",
      "execution_count": 36,
      "id": "d4aa4e63",
      "metadata": {
        "colab": {
          "base_uri": "https://localhost:8080/"
        },
        "id": "d4aa4e63",
        "outputId": "b21900fa-eab8-4342-9cc6-b5354294d0df"
      },
      "outputs": [
        {
          "output_type": "stream",
          "name": "stdout",
          "text": [
            "Son  2.67  horas\n"
          ]
        }
      ],
      "source": [
        "# EJERCICIO 4\n",
        "# Let's write an expression that calculates how many hours there are in 160 minutes:\n",
        "# Mediante una regla de 3 simple sabes que 1 hora tiene 60 minutos entonces 160 minutos cuantas horas serán:\n",
        "\n",
        "print('Son ', round((1 * 160) / 60, 2), ' horas')"
      ]
    },
    {
      "cell_type": "code",
      "execution_count": 37,
      "id": "32d040d6",
      "metadata": {
        "colab": {
          "base_uri": "https://localhost:8080/"
        },
        "id": "32d040d6",
        "outputId": "888cee50-64b8-4bcf-8f77-602e6062e9f7"
      },
      "outputs": [
        {
          "output_type": "stream",
          "name": "stdout",
          "text": [
            "150\n",
            "1920\n"
          ]
        },
        {
          "output_type": "execute_result",
          "data": {
            "text/plain": [
              "False"
            ]
          },
          "metadata": {},
          "execution_count": 37
        }
      ],
      "source": [
        "# Mathematical expression\n",
        "print(30 + 2 * 60)\n",
        "print((30 + 2) * 60)\n",
        "30 + 2 * 60 == (30 + 2) * 60"
      ]
    },
    {
      "cell_type": "code",
      "execution_count": 38,
      "id": "c3b457b9",
      "metadata": {
        "id": "c3b457b9"
      },
      "outputs": [],
      "source": [
        "x = 43 + 60 + 16 + 41"
      ]
    },
    {
      "cell_type": "code",
      "execution_count": 39,
      "id": "7776903b",
      "metadata": {
        "colab": {
          "base_uri": "https://localhost:8080/"
        },
        "id": "7776903b",
        "outputId": "49c7e613-9a97-4f92-f5fc-494f5f23db26"
      },
      "outputs": [
        {
          "output_type": "execute_result",
          "data": {
            "text/plain": [
              "160"
            ]
          },
          "metadata": {},
          "execution_count": 39
        }
      ],
      "source": [
        "x"
      ]
    },
    {
      "cell_type": "code",
      "execution_count": 40,
      "id": "e2568e12",
      "metadata": {
        "colab": {
          "base_uri": "https://localhost:8080/"
        },
        "id": "e2568e12",
        "outputId": "03846ad6-754f-47eb-c301-b06157f0f416"
      },
      "outputs": [
        {
          "output_type": "execute_result",
          "data": {
            "text/plain": [
              "2.6666666666666665"
            ]
          },
          "metadata": {},
          "execution_count": 40
        }
      ],
      "source": [
        "y = x / 60\n",
        "y"
      ]
    },
    {
      "cell_type": "code",
      "execution_count": 41,
      "id": "df00cbc9",
      "metadata": {
        "colab": {
          "base_uri": "https://localhost:8080/"
        },
        "id": "df00cbc9",
        "outputId": "30c99b35-5b3c-4240-9fd4-fc10a04668fb"
      },
      "outputs": [
        {
          "output_type": "execute_result",
          "data": {
            "text/plain": [
              "2.6666666666666665"
            ]
          },
          "metadata": {},
          "execution_count": 41
        }
      ],
      "source": [
        "x = x / 60\n",
        "x"
      ]
    },
    {
      "cell_type": "code",
      "execution_count": 42,
      "id": "962bb020",
      "metadata": {
        "colab": {
          "base_uri": "https://localhost:8080/"
        },
        "id": "962bb020",
        "outputId": "b1f39d7b-a1a7-476d-93c2-9a3fdb391a27"
      },
      "outputs": [
        {
          "output_type": "execute_result",
          "data": {
            "text/plain": [
              "142"
            ]
          },
          "metadata": {},
          "execution_count": 42
        }
      ],
      "source": [
        "# Name the variables meaningfully\n",
        "\n",
        "total_min = 43 + 42 + 57 # Total length of albums in minutes\n",
        "total_min"
      ]
    },
    {
      "cell_type": "code",
      "execution_count": 43,
      "id": "7b0a8e27",
      "metadata": {
        "colab": {
          "base_uri": "https://localhost:8080/"
        },
        "id": "7b0a8e27",
        "outputId": "761317ab-9b99-4d82-91f4-2b84f2858a9a"
      },
      "outputs": [
        {
          "output_type": "execute_result",
          "data": {
            "text/plain": [
              "2.3666666666666667"
            ]
          },
          "metadata": {},
          "execution_count": 43
        }
      ],
      "source": [
        "# Name the variables meaningfully\n",
        "\n",
        "total_hours = total_min / 60 # Total length of albums in hours \n",
        "total_hours"
      ]
    },
    {
      "cell_type": "code",
      "execution_count": 44,
      "id": "46d7a325",
      "metadata": {
        "colab": {
          "base_uri": "https://localhost:8080/"
        },
        "id": "46d7a325",
        "outputId": "560a86f8-f782-4e54-88cf-8b7484c08130"
      },
      "outputs": [
        {
          "output_type": "execute_result",
          "data": {
            "text/plain": [
              "2.3666666666666667"
            ]
          },
          "metadata": {},
          "execution_count": 44
        }
      ],
      "source": [
        "# Complicate expression\n",
        "\n",
        "total_hours = (43 + 42 + 57) / 60  # Total hours in a single expression\n",
        "total_hours"
      ]
    },
    {
      "cell_type": "code",
      "execution_count": 45,
      "id": "531d58de",
      "metadata": {
        "colab": {
          "base_uri": "https://localhost:8080/"
        },
        "id": "531d58de",
        "outputId": "357e2046-3374-4ab4-a16d-10289b5c2a23"
      },
      "outputs": [
        {
          "output_type": "stream",
          "name": "stdout",
          "text": [
            "7\n",
            "10\n",
            "17\n"
          ]
        }
      ],
      "source": [
        "# EJERCICIO 5\n",
        "# What is the value of x where x = 3 + 2 * 2\n",
        "x = 3 + 2 * 2 # 7\n",
        "print(x)\n",
        "\n",
        "# What is the value of y where y = (3 + 2) * 2\n",
        "y = (3 + 2) * 2 # 10\n",
        "print(y)\n",
        "\n",
        "# What is the value of z where z = x + y?\n",
        "z = x + y # 17\n",
        "print(z)"
      ]
    },
    {
      "cell_type": "code",
      "execution_count": 46,
      "id": "0d940bf4",
      "metadata": {
        "id": "0d940bf4"
      },
      "outputs": [],
      "source": [
        "## PRACTICA CON CADENAS"
      ]
    },
    {
      "cell_type": "code",
      "execution_count": 47,
      "id": "24509ea2",
      "metadata": {
        "colab": {
          "base_uri": "https://localhost:8080/",
          "height": 35
        },
        "id": "24509ea2",
        "outputId": "3455e9d7-d74a-4611-f104-0d89ed6e198e"
      },
      "outputs": [
        {
          "output_type": "execute_result",
          "data": {
            "text/plain": [
              "'Michael Jackson'"
            ],
            "application/vnd.google.colaboratory.intrinsic+json": {
              "type": "string"
            }
          },
          "metadata": {},
          "execution_count": 47
        }
      ],
      "source": [
        "\"Michael Jackson\""
      ]
    },
    {
      "cell_type": "code",
      "execution_count": 48,
      "id": "8f8b036a",
      "metadata": {
        "colab": {
          "base_uri": "https://localhost:8080/",
          "height": 35
        },
        "id": "8f8b036a",
        "outputId": "cbbc477c-dec3-48c9-db11-a39c3fb4363a"
      },
      "outputs": [
        {
          "output_type": "execute_result",
          "data": {
            "text/plain": [
              "'Michael Jackson'"
            ],
            "application/vnd.google.colaboratory.intrinsic+json": {
              "type": "string"
            }
          },
          "metadata": {},
          "execution_count": 48
        }
      ],
      "source": [
        "name = \"Michael Jackson\"\n",
        "name"
      ]
    },
    {
      "cell_type": "code",
      "execution_count": 49,
      "id": "a30143c7",
      "metadata": {
        "colab": {
          "base_uri": "https://localhost:8080/"
        },
        "id": "a30143c7",
        "outputId": "ebcf8d07-25df-4605-9110-3435bf7c6dcb"
      },
      "outputs": [
        {
          "output_type": "stream",
          "name": "stdout",
          "text": [
            "M\n"
          ]
        }
      ],
      "source": [
        "print(name[0])"
      ]
    },
    {
      "cell_type": "code",
      "execution_count": 50,
      "id": "7dcfef10",
      "metadata": {
        "colab": {
          "base_uri": "https://localhost:8080/"
        },
        "id": "7dcfef10",
        "outputId": "5d97677f-c0c6-441f-da1d-94a6ac46296a"
      },
      "outputs": [
        {
          "output_type": "stream",
          "name": "stdout",
          "text": [
            "o\n"
          ]
        }
      ],
      "source": [
        "print(name[13])"
      ]
    },
    {
      "cell_type": "code",
      "execution_count": 51,
      "id": "67f52e8f",
      "metadata": {
        "colab": {
          "base_uri": "https://localhost:8080/"
        },
        "id": "67f52e8f",
        "outputId": "70299ff3-11a3-45b7-8f25-8df48a46a247"
      },
      "outputs": [
        {
          "output_type": "stream",
          "name": "stdout",
          "text": [
            "M\n"
          ]
        }
      ],
      "source": [
        "print(name[-15])"
      ]
    },
    {
      "cell_type": "code",
      "execution_count": 52,
      "id": "da67790d",
      "metadata": {
        "colab": {
          "base_uri": "https://localhost:8080/"
        },
        "id": "da67790d",
        "outputId": "512cd5fd-2ffb-4662-9557-b49ec68572a3"
      },
      "outputs": [
        {
          "output_type": "execute_result",
          "data": {
            "text/plain": [
              "15"
            ]
          },
          "metadata": {},
          "execution_count": 52
        }
      ],
      "source": [
        "len(\"Michael Jackson\")"
      ]
    },
    {
      "cell_type": "code",
      "execution_count": 53,
      "id": "57c55663",
      "metadata": {
        "colab": {
          "base_uri": "https://localhost:8080/",
          "height": 35
        },
        "id": "57c55663",
        "outputId": "42364495-fc26-434b-e1e0-043c6a434ae6"
      },
      "outputs": [
        {
          "output_type": "execute_result",
          "data": {
            "text/plain": [
              "'McalJcsn'"
            ],
            "application/vnd.google.colaboratory.intrinsic+json": {
              "type": "string"
            }
          },
          "metadata": {},
          "execution_count": 53
        }
      ],
      "source": [
        "name[::2]"
      ]
    },
    {
      "cell_type": "code",
      "execution_count": 54,
      "id": "1279dce7",
      "metadata": {
        "colab": {
          "base_uri": "https://localhost:8080/",
          "height": 35
        },
        "id": "1279dce7",
        "outputId": "565b1b7f-c000-4bb8-b638-32eac90dbc7e"
      },
      "outputs": [
        {
          "output_type": "execute_result",
          "data": {
            "text/plain": [
              "'Mca'"
            ],
            "application/vnd.google.colaboratory.intrinsic+json": {
              "type": "string"
            }
          },
          "metadata": {},
          "execution_count": 54
        }
      ],
      "source": [
        "name[0:5:2]"
      ]
    },
    {
      "cell_type": "code",
      "execution_count": 55,
      "id": "1860ae6f",
      "metadata": {
        "colab": {
          "base_uri": "https://localhost:8080/",
          "height": 35
        },
        "id": "1860ae6f",
        "outputId": "f6b3ee14-7793-4b2d-ccf0-b8b7fcca27d2"
      },
      "outputs": [
        {
          "output_type": "execute_result",
          "data": {
            "text/plain": [
              "'Michael Jacksonis the best'"
            ],
            "application/vnd.google.colaboratory.intrinsic+json": {
              "type": "string"
            }
          },
          "metadata": {},
          "execution_count": 55
        }
      ],
      "source": [
        "statement = name + \"is the best\"\n",
        "statement"
      ]
    },
    {
      "cell_type": "code",
      "execution_count": 56,
      "id": "4bfe3c35",
      "metadata": {
        "colab": {
          "base_uri": "https://localhost:8080/",
          "height": 35
        },
        "id": "4bfe3c35",
        "outputId": "52431497-c80a-4f33-ef3c-3c9dc0999f20"
      },
      "outputs": [
        {
          "output_type": "execute_result",
          "data": {
            "text/plain": [
              "'Michael JacksonMichael JacksonMichael Jackson'"
            ],
            "application/vnd.google.colaboratory.intrinsic+json": {
              "type": "string"
            }
          },
          "metadata": {},
          "execution_count": 56
        }
      ],
      "source": [
        "3 * \"Michael Jackson\""
      ]
    },
    {
      "cell_type": "code",
      "execution_count": 57,
      "id": "f4de9a87",
      "metadata": {
        "colab": {
          "base_uri": "https://localhost:8080/",
          "height": 35
        },
        "id": "f4de9a87",
        "outputId": "e0c90585-164b-460b-804b-2e7399711388"
      },
      "outputs": [
        {
          "output_type": "execute_result",
          "data": {
            "text/plain": [
              "'Michael Jackson is the best'"
            ],
            "application/vnd.google.colaboratory.intrinsic+json": {
              "type": "string"
            }
          },
          "metadata": {},
          "execution_count": 57
        }
      ],
      "source": [
        "name = \"Michael Jackson\"\n",
        "name = name + \" is the best\"\n",
        "name"
      ]
    },
    {
      "cell_type": "code",
      "execution_count": 58,
      "id": "49938f09",
      "metadata": {
        "colab": {
          "base_uri": "https://localhost:8080/"
        },
        "id": "49938f09",
        "outputId": "0b79b3b1-8534-4f70-b19f-be4cb37bf232"
      },
      "outputs": [
        {
          "output_type": "stream",
          "name": "stdout",
          "text": [
            " Michael Jackson \n",
            " is the best\n"
          ]
        }
      ],
      "source": [
        "print(\" Michael Jackson \\n is the best\" )"
      ]
    },
    {
      "cell_type": "code",
      "execution_count": 59,
      "id": "99255a5e",
      "metadata": {
        "colab": {
          "base_uri": "https://localhost:8080/"
        },
        "id": "99255a5e",
        "outputId": "8d1b01c1-ce4a-41a5-f07e-9d65482cee91"
      },
      "outputs": [
        {
          "output_type": "stream",
          "name": "stdout",
          "text": [
            " Michael Jackson \t is the best\n"
          ]
        }
      ],
      "source": [
        "print(\" Michael Jackson \\t is the best\" )"
      ]
    },
    {
      "cell_type": "code",
      "execution_count": 60,
      "id": "bf76f111",
      "metadata": {
        "colab": {
          "base_uri": "https://localhost:8080/"
        },
        "id": "bf76f111",
        "outputId": "43629321-3bbc-4d51-b57e-70df3691ab36"
      },
      "outputs": [
        {
          "output_type": "stream",
          "name": "stdout",
          "text": [
            "before upper: Thriller is the sixth studio album\n",
            "After upper: THRILLER IS THE SIXTH STUDIO ALBUM\n",
            "After lower: thriller is the sixth studio album\n"
          ]
        }
      ],
      "source": [
        "a = \"Thriller is the sixth studio album\"\n",
        "print(\"before upper:\", a)\n",
        "b = a.upper()\n",
        "print(\"After upper:\", b)\n",
        "\n",
        "c = b.lower()\n",
        "print(\"After lower:\", c)"
      ]
    },
    {
      "cell_type": "code",
      "execution_count": 61,
      "id": "4b851054",
      "metadata": {
        "colab": {
          "base_uri": "https://localhost:8080/",
          "height": 35
        },
        "id": "4b851054",
        "outputId": "40f735fc-7457-4bbe-d726-8596ef0a1e98"
      },
      "outputs": [
        {
          "output_type": "execute_result",
          "data": {
            "text/plain": [
              "'Janet Jackson is the best'"
            ],
            "application/vnd.google.colaboratory.intrinsic+json": {
              "type": "string"
            }
          },
          "metadata": {},
          "execution_count": 61
        }
      ],
      "source": [
        "a = \"Michael Jackson is the best\"\n",
        "b = a.replace('Michael', 'Janet')\n",
        "b"
      ]
    },
    {
      "cell_type": "code",
      "execution_count": 62,
      "id": "169818f9",
      "metadata": {
        "colab": {
          "base_uri": "https://localhost:8080/"
        },
        "id": "169818f9",
        "outputId": "12d7c3aa-605e-4155-ef3e-fd261eeb1acf"
      },
      "outputs": [
        {
          "output_type": "execute_result",
          "data": {
            "text/plain": [
              "5"
            ]
          },
          "metadata": {},
          "execution_count": 62
        }
      ],
      "source": [
        "name = \"Michael Jackson\"\n",
        "name.find('el')"
      ]
    },
    {
      "cell_type": "code",
      "execution_count": 63,
      "id": "51dd42a9",
      "metadata": {
        "colab": {
          "base_uri": "https://localhost:8080/"
        },
        "id": "51dd42a9",
        "outputId": "9a499aa1-189c-4c5a-ae2f-71c3d5bbb3ce"
      },
      "outputs": [
        {
          "output_type": "execute_result",
          "data": {
            "text/plain": [
              "8"
            ]
          },
          "metadata": {},
          "execution_count": 63
        }
      ],
      "source": [
        "name.find('Jack')"
      ]
    },
    {
      "cell_type": "code",
      "execution_count": 64,
      "id": "f5a254dd",
      "metadata": {
        "colab": {
          "base_uri": "https://localhost:8080/"
        },
        "id": "f5a254dd",
        "outputId": "409ac958-aa35-4001-811e-5ad981885b88"
      },
      "outputs": [
        {
          "output_type": "execute_result",
          "data": {
            "text/plain": [
              "-1"
            ]
          },
          "metadata": {},
          "execution_count": 64
        }
      ],
      "source": [
        "name.find('Jasdfasdasdf')"
      ]
    },
    {
      "cell_type": "code",
      "execution_count": 65,
      "id": "db5ee19f",
      "metadata": {
        "colab": {
          "base_uri": "https://localhost:8080/"
        },
        "id": "db5ee19f",
        "outputId": "e8ae408d-33ea-4017-cded-4f440f1b5d01"
      },
      "outputs": [
        {
          "output_type": "stream",
          "name": "stdout",
          "text": [
            "1\n",
            "2\n",
            "12\n",
            "ABC\n",
            "correct\n",
            "\\ \n",
            "95\n",
            "Bob had a little lamb Little lamb, little lamb Bob had a little lamb Its fleece was white as snow And everywhere that Bob went Bob went, Bob went Everywhere that Bob went The lamb was sure to go\n"
          ]
        }
      ],
      "source": [
        "# EJERCICIO 6\n",
        "# What is the value of the variable a after the following code is executed?\n",
        "a = \"1\" # 1 como string\n",
        "\n",
        "print(a)\n",
        "\n",
        "# What is the value of the variable b after the following code is executed?\n",
        "b = \"2\"\n",
        "\n",
        "print(b)\n",
        "\n",
        "# What is the value of the variable c after the following code is executed?\n",
        "c = a + b\n",
        "\n",
        "print(c)\n",
        "\n",
        "# Consider the variable d use slicing to print out the first three elements:\n",
        "d = \"ABCDEFG\"\n",
        "\n",
        "print(d[:3])\n",
        "\n",
        "# Use a stride value of 2 to print out every second character of the string e\n",
        "e = 'clocrkr1e1c1t'\n",
        "\n",
        "print(e[::2])\n",
        "\n",
        "# Print out a backslash:\n",
        "print(r\"\\ \")\n",
        "\n",
        "# Consider the variable g, and find the first index of the sub-string snow:\n",
        "g = \"Mary had a little lamb Little lamb, little lamb Mary had a little lamb \\\n",
        "Its fleece was white as snow And everywhere that Mary went Mary went, Mary went \\\n",
        "Everywhere that Mary went The lamb was sure to go\"\n",
        "\n",
        "print(g.find(\"snow\"))\n",
        "\n",
        "# In the variable g, replace the sub-string Mary with Bob:\n",
        "print(g.replace(\"Mary\", \"Bob\"))"
      ]
    },
    {
      "cell_type": "code",
      "execution_count": 66,
      "id": "e41b8866",
      "metadata": {
        "colab": {
          "base_uri": "https://localhost:8080/"
        },
        "id": "e41b8866",
        "outputId": "f04ce48d-f9d1-4d38-c6a1-5375688cf3cd"
      },
      "outputs": [
        {
          "output_type": "stream",
          "name": "stdout",
          "text": [
            "L\n"
          ]
        }
      ],
      "source": [
        "name = 'Lizz'\n",
        "print(name[0:1])"
      ]
    },
    {
      "cell_type": "code",
      "execution_count": 67,
      "id": "92ddcd5d",
      "metadata": {
        "colab": {
          "base_uri": "https://localhost:8080/"
        },
        "id": "92ddcd5d",
        "outputId": "517bb5c6-3fcd-4121-dd86-da002a51048d"
      },
      "outputs": [
        {
          "output_type": "stream",
          "name": "stdout",
          "text": [
            "0246\n"
          ]
        }
      ],
      "source": [
        "var = '01234567'\n",
        "print(var[::2])"
      ]
    }
  ],
  "metadata": {
    "kernelspec": {
      "display_name": "Python 3 (ipykernel)",
      "language": "python",
      "name": "python3"
    },
    "language_info": {
      "codemirror_mode": {
        "name": "ipython",
        "version": 3
      },
      "file_extension": ".py",
      "mimetype": "text/x-python",
      "name": "python",
      "nbconvert_exporter": "python",
      "pygments_lexer": "ipython3",
      "version": "3.9.12"
    },
    "colab": {
      "provenance": [],
      "include_colab_link": true
    }
  },
  "nbformat": 4,
  "nbformat_minor": 5
}